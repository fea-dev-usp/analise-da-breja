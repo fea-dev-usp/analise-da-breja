{
 "cells": [
  {
   "cell_type": "markdown",
   "metadata": {},
   "source": [
    "## **Configurações iniciais**"
   ]
  },
  {
   "cell_type": "code",
   "execution_count": null,
   "metadata": {},
   "outputs": [],
   "source": [
    "# Importa as bibliotecas que serão utilizadas na análise.\n",
    "\n",
    "import pandas as pd\n",
    "import numpy as np\n",
    "import scipy as sp\n",
    "import matplotlib.pyplot as plt\n",
    "import plotly.graph_objects as go\n",
    "import seaborn as sns\n",
    "from typing import Optional"
   ]
  },
  {
   "cell_type": "code",
   "execution_count": null,
   "metadata": {},
   "outputs": [],
   "source": [
    "# Lê o .csv que contém os reviews e os salva em um DataFrame.\n",
    "data = pd.read_csv(\"beer_reviews.csv\")"
   ]
  },
  {
   "cell_type": "code",
   "execution_count": null,
   "metadata": {},
   "outputs": [],
   "source": [
    "# Exibe o DataFrame gerado na célula anterior.\n",
    "data"
   ]
  },
  {
   "cell_type": "markdown",
   "metadata": {},
   "source": [
    "# **Filtragem dos dados**"
   ]
  },
  {
   "cell_type": "markdown",
   "metadata": {},
   "source": [
    "## Processo"
   ]
  },
  {
   "cell_type": "markdown",
   "metadata": {},
   "source": [
    "### Metodologia"
   ]
  },
  {
   "cell_type": "markdown",
   "metadata": {},
   "source": [
    "Como o dataset *\"beer_reviews.csv\"* não contém uma coluna específica para nacionalidade, foi necessário realizar uma filtragem dos dados para que algumas cervejas brasileiras pudessem ser analisadas. Nesse intuito, foi consultada uma pesquisa publicada pelo Sindicerv (Sindicato Nacional da Indústria da Cerveja) para identificar os estilos de cerveja mais consumidos no Brasil. Em seguida, foram utilizados mecanismos de pesquisa para encontrar algumas cervejas nacionais que se enquadram em cada um desses estilos. Por fim, os dados de tais cervejas foram coletados e filtrados a partir do dataset \"beer_reviews.csv\" para possibilitar uma análise detalhada. \n",
    "\n",
    "*O processo completo dessa \"filtragem de dados\" está descrito nas células abaixo.*"
   ]
  },
  {
   "cell_type": "markdown",
   "metadata": {},
   "source": [
    "### Pesquisa do site \"Surra de Lúpulo\" em conjunto com o Sindicato Nacional da Industria da Cerveja"
   ]
  },
  {
   "cell_type": "markdown",
   "metadata": {},
   "source": [
    "Segundo a pesquisa \"Retrato dos consumidores de Cerveja 2023\", divulgada em dezembro de 2023 pelo site \"Surra de Lúpulo\", juntamente do Sindicato Nacional da Industria da Cerveja (Sindicerv), os estilos de cerveja mais consumidos pelo brasileiro são:\n",
    "\n",
    "1. *IPA (India Pale Ale)*\n",
    "2. *Weissbier*\n",
    "3. *Pilsen*\n",
    "4. *American Lager*\n",
    "5. *APA (American Pale Ale)*\n",
    "\n",
    "*Link da pesquisa:* https://www.sindicerv.com.br/noticias/ipa-pilsen-e-mais-pesquisa-revela-os-estilos-de-cervejas-preferidos-dos-consumidores/  "
   ]
  },
  {
   "cell_type": "markdown",
   "metadata": {},
   "source": [
    "### Resumo do resultado das buscas nos mecanismos de pesquisa\n",
    "\n",
    "###### *AKA Google + ChatGPT*"
   ]
  },
  {
   "cell_type": "markdown",
   "metadata": {},
   "source": [
    "Para cada um dos estilos de cerveja mencionados, há representantes bem conhecidos no Brasil. Para os apreciadores de IPA, a Colorado Indica é uma excelente escolha. Se você gosta de Weissbier, a Eisenbahn Weizen é uma ótima opção. No que diz respeito às Pilsners, é comum que no Brasil elas sejam confundidas com American Lagers. Entre essas categorias, há diversas opções amplamente consumidas, como Brahma, Skol e Antártica. Finalmente, para quem prefere APA, a Colorado Appia é uma ótima opção."
   ]
  },
  {
   "cell_type": "markdown",
   "metadata": {},
   "source": [
    "### Obtendo dados das cervejas descobertas na pesquisa realizada na subseção anterior"
   ]
  },
  {
   "cell_type": "markdown",
   "metadata": {},
   "source": [
    "#####\n",
    "Com o intuito de facilitar o trabalho que será realizado nessa subseção, vamos criar um dicionário que guarda os estilos de cerveja mais consumidos pelos brasileiros, juntamente de algumas cervejas que representam tais estilos *(isto é, as cervejas que descobrimos na busca realizada na seção anterior)*."
   ]
  },
  {
   "cell_type": "code",
   "execution_count": null,
   "metadata": {},
   "outputs": [],
   "source": [
    "# Cria um dicionário que contém os estilos de cerveja mais consumidos pelos brasileiros. Cada estilo de cerveja tem uma ou mais cervejas \n",
    "# como suas representantes, e cada uma dessas cervejas possui um DataFrame que armazena os reviews relacionados a ela ou, no caso de algumas \n",
    "# cervejas, a ela e suas variantes.\n",
    "\n",
    "beer_dict = {\n",
    "    'India Pale Ale':{\n",
    "        'Colorado Indica':pd.DataFrame()\n",
    "    },\n",
    "    'Weissbier':{\n",
    "        'Eisenbahn Weizenbier':pd.DataFrame()\n",
    "    },\n",
    "    'Pilsen/American Lager':{\n",
    "        'Skol':pd.DataFrame(),\n",
    "        'Antarctica':pd.DataFrame(),\n",
    "        'Brahma':pd.DataFrame()\n",
    "    },\n",
    "    'American Pale Ale':{\n",
    "        'Colorado Appia':pd.DataFrame()\n",
    "    }\n",
    "}            "
   ]
  },
  {
   "cell_type": "markdown",
   "metadata": {},
   "source": []
  },
  {
   "cell_type": "markdown",
   "metadata": {},
   "source": [
    "#### IPA (India Pale Ale)"
   ]
  },
  {
   "cell_type": "code",
   "execution_count": null,
   "metadata": {},
   "outputs": [],
   "source": [
    "# Nesta célula serão exibidos os reviews sobre a cerveja Colorado Indica.\n",
    "\n",
    "# Guarda os reviews sobre a cerveja em questão no dicionário \"beer_dict\".\n",
    "beer_dict['India Pale Ale']['Colorado Indica'] = data[data['beer_name'] == 'Colorado Indica']\n",
    "\n",
    "# Exibe tais reviews.\n",
    "beer_dict['India Pale Ale']['Colorado Indica']"
   ]
  },
  {
   "cell_type": "markdown",
   "metadata": {},
   "source": [
    "#### Weissbier"
   ]
  },
  {
   "cell_type": "code",
   "execution_count": null,
   "metadata": {},
   "outputs": [],
   "source": [
    "# Nesta célula serão exibidos os reviews sobre a cerveja Eisenbahn Weizen.\n",
    "\n",
    "# Guarda os reviews sobre a cerveja em questão no dicionário \"beer_dict\".\n",
    "beer_dict['Weissbier']['Eisenbahn Weizenbier'] = data[data['beer_name'] == \"Eisenbahn Weizenbier\"]\n",
    "\n",
    "# Exibe tais reviews.\n",
    "beer_dict['Weissbier']['Eisenbahn Weizenbier']"
   ]
  },
  {
   "cell_type": "markdown",
   "metadata": {},
   "source": [
    "#### Pilsen / American Lager"
   ]
  },
  {
   "cell_type": "markdown",
   "metadata": {},
   "source": [
    "##### Skol"
   ]
  },
  {
   "cell_type": "code",
   "execution_count": null,
   "metadata": {},
   "outputs": [],
   "source": [
    "# Nesta célula serão exibidos os reviews sobre a cerveja Skol.\n",
    "\n",
    "# Perceba que nessa célula estamos usando o \"startswith\" para pesquisar sobre os reviews da cerveja em questão, ao invês de pesquisar \n",
    "# somente pelo nome de tal cerveja. Estamos fazendo isso pois existem várias variações da cerveja pesquisada.\n",
    "\n",
    "# Guarda os reviews sobre as variantes da cerveja em questão no dicionário \"beer_dict\".\n",
    "beer_dict['Pilsen/American Lager']['Skol'] = data[data['beer_name'].str.startswith(\"Skol\", na=False)]\n",
    "\n",
    "# Exibe tais reviews.\n",
    "beer_dict['Pilsen/American Lager']['Skol']\n",
    "\n",
    "# Observação: Veja que existem cervejarias que não são brasileiras e que produzem cervejas que começam com \"Skol\", resolveremos isso mais abaixo."
   ]
  },
  {
   "cell_type": "markdown",
   "metadata": {},
   "source": [
    "##### Antarctica"
   ]
  },
  {
   "cell_type": "code",
   "execution_count": null,
   "metadata": {},
   "outputs": [],
   "source": [
    "# Nesta célula serão exibidos os reviews sobre a cerveja Antarctica.\n",
    "\n",
    "# Perceba que nessa célula estamos usando o \"startswith\" para pesquisar sobre os reviews da cerveja em questão, ao invês de pesquisar \n",
    "# somente pelo nome de tal cerveja. Estamos fazendo isso pois existem várias variações da cerveja pesquisada.\n",
    "\n",
    "# Guarda os reviews sobre as variantes da cerveja em questão no dicionário \"beer_dict\".\n",
    "beer_dict['Pilsen/American Lager']['Antarctica'] = data[data['beer_name'].str.startswith(\"Antarctica\", na=False)]\n",
    "\n",
    "# Exibe tais reviews.\n",
    "beer_dict['Pilsen/American Lager']['Antarctica']\n"
   ]
  },
  {
   "cell_type": "markdown",
   "metadata": {},
   "source": [
    "##### Brahma"
   ]
  },
  {
   "cell_type": "code",
   "execution_count": null,
   "metadata": {},
   "outputs": [],
   "source": [
    "# Nesta célula serão exibidos os reviews sobre a cerveja Brahma.\n",
    "\n",
    "# Perceba que nessa célula estamos usando o \"startswith\" para pesquisar sobre os reviews da cerveja em questão, ao invês de pesquisar somente \n",
    "# pelo nome de tal cerveja. Estamos fazendo isso pois existem várias variações da cerveja pesquisada.\n",
    "\n",
    "# Guarda os reviews sobre as variantes da cerveja em questão no dicionário \"beer_dict\".\n",
    "beer_dict['Pilsen/American Lager']['Brahma'] = data[data['beer_name'].str.startswith(\"Brahma\", na=False)]\n",
    "\n",
    "# Exibe tais reviews.\n",
    "beer_dict['Pilsen/American Lager']['Brahma']\n",
    "\n",
    "# Observação: Tal como no caso da \"Skol\", a \"Brahma\" também possui cervejarias que não são nacionais e que produzem cerveja com as iniciais \n",
    "#             \"Brahma\", resolveremos isso na próxima seção."
   ]
  },
  {
   "cell_type": "markdown",
   "metadata": {},
   "source": [
    "#### APA (American Pale Ale)"
   ]
  },
  {
   "cell_type": "markdown",
   "metadata": {},
   "source": [
    "##### Colorado Appia"
   ]
  },
  {
   "cell_type": "code",
   "execution_count": null,
   "metadata": {},
   "outputs": [],
   "source": [
    "# Nesta célula serão exibidos os reviews sobre a cerveja Colorado Appia.\n",
    "\n",
    "# Guarda os reviews sobre a cerveja em questão no dicionário \"beer_dict\".\n",
    "beer_dict['American Pale Ale']['Colorado Appia'] = data[data['beer_name'] == 'Colorado Appia']\n",
    "\n",
    "# Exibe tais reviews.\n",
    "beer_dict['American Pale Ale']['Colorado Appia']"
   ]
  },
  {
   "cell_type": "markdown",
   "metadata": {},
   "source": [
    "### Filtrando pelas cervejarias nacionais"
   ]
  },
  {
   "cell_type": "markdown",
   "metadata": {},
   "source": [
    "Nessa subseção, resolveremos os problemas citados ao obter os dados das cervejas \"Skol\" e \"Brahma\"."
   ]
  },
  {
   "cell_type": "markdown",
   "metadata": {},
   "source": [
    "##### Skol"
   ]
  },
  {
   "cell_type": "code",
   "execution_count": null,
   "metadata": {},
   "outputs": [],
   "source": [
    "# Quem produz a cerveja 'Skol' (Pilsen / American Lager) ?\n",
    "\n",
    "data[data['beer_name'].str.startswith('Skol')]['brewery_name'].unique()\n",
    "\n",
    "# Observe que das cervejarias abaixo, apenas a \"Cervejarias Reunidas Skol-Caracu\" é brasileira."
   ]
  },
  {
   "cell_type": "code",
   "execution_count": null,
   "metadata": {},
   "outputs": [],
   "source": [
    "# Filtra os dados para obter apenas as variantes da cerveja \"Skol\" que foram produzidas pela cervejaria brasileira \"Cervejarias Reunidas Skol-Caracu\".\n",
    "filtered_data = beer_dict['Pilsen/American Lager']['Skol'][beer_dict['Pilsen/American Lager']['Skol']['brewery_name'] == 'Cervejarias Reunidas Skol-Caracu']\n",
    "\n",
    "# Altera o DataFrame da cerveja \"Skol\" para que este contenha apenas os dados filtrados que foram obtidos acima.\n",
    "beer_dict['Pilsen/American Lager']['Skol'] = filtered_data\n",
    "\n",
    "# Exibe os dados filtrados.\n",
    "beer_dict['Pilsen/American Lager']['Skol']"
   ]
  },
  {
   "cell_type": "code",
   "execution_count": null,
   "metadata": {},
   "outputs": [],
   "source": [
    "# Por fim, observe quais variantes da cerveja \"Skol\" são produzidas pela \"Cervejarias Reunidas Skol-Caracu\"\n",
    "\n",
    "data[data['brewery_name'] == 'Cervejarias Reunidas Skol-Caracu']['beer_name'].unique()"
   ]
  },
  {
   "cell_type": "markdown",
   "metadata": {},
   "source": [
    "##### Brahma"
   ]
  },
  {
   "cell_type": "code",
   "execution_count": null,
   "metadata": {},
   "outputs": [],
   "source": [
    "# Quem produz a cerveja 'Brahma' (Pilsen / American Lager) ?\n",
    "\n",
    "data[data['beer_name'].str.startswith('Brahma',na=False)]['brewery_name'].unique()\n",
    "\n",
    "# As pesquisas são um pouco confusas e não sei ao certo afirmar se o Grupo Bemberg realmente produz Brahma. Por conta disso, vamos considerar\n",
    "# que apenas a \"Companhia Cervejaria Brahma\" é a cervejaria nacional que produz a cerveja \"Brahma\" e suas variantes."
   ]
  },
  {
   "cell_type": "code",
   "execution_count": null,
   "metadata": {},
   "outputs": [],
   "source": [
    "# Filtra os dados para obter apenas as variantes da cerveja \"Brahma\" que foram produzidas pela cervejaria brasileira \"Companhia Cervejaria Brahma\".\n",
    "filtered_data = beer_dict['Pilsen/American Lager']['Brahma'][beer_dict['Pilsen/American Lager']['Brahma']['brewery_name'] == 'Companhia Cervejaria Brahma']\n",
    "\n",
    "# Altera o DataFrame da cerveja \"Brahma\" para que este contenha apenas os dados filtrados que foram obtidos acima.\n",
    "beer_dict['Pilsen/American Lager']['Brahma'] = filtered_data\n",
    "\n",
    "# Exibe os dados filtrados.\n",
    "beer_dict['Pilsen/American Lager']['Brahma']"
   ]
  },
  {
   "cell_type": "code",
   "execution_count": null,
   "metadata": {},
   "outputs": [],
   "source": [
    "# Por fim, observe quais variantes da cerveja \"Brahma\" são produzidas pela \"Companhia Cervejaria Brahma\"\n",
    "\n",
    "data[data['brewery_name'] == 'Companhia Cervejaria Brahma']['beer_name'].unique()"
   ]
  },
  {
   "cell_type": "markdown",
   "metadata": {},
   "source": [
    "### Escolhendo as cervejas que serão analisadas"
   ]
  },
  {
   "cell_type": "markdown",
   "metadata": {},
   "source": [
    "#####\n",
    "\n",
    "Cervejas do estilo \"American Pale Ale\", \"Weissbier\" e \"India Pale Ale\""
   ]
  },
  {
   "cell_type": "code",
   "execution_count": null,
   "metadata": {},
   "outputs": [],
   "source": [
    "# No caso do estilo \"American Pale Ale\", só temos como cerveja no \"beer_dict\" a \"Colorado Appia\". Portanto, não há o que alterar aqui.\n",
    "beer_dict['American Pale Ale']['Colorado Appia']['beer_name'].unique()"
   ]
  },
  {
   "cell_type": "code",
   "execution_count": null,
   "metadata": {},
   "outputs": [],
   "source": [
    "# Pelo mesmo motivo da célula anteiror, não há o que alterar aqui.\n",
    "beer_dict['Weissbier']['Eisenbahn Weizenbier']['beer_name'].unique()"
   ]
  },
  {
   "cell_type": "code",
   "execution_count": null,
   "metadata": {},
   "outputs": [],
   "source": [
    "# Pelo mesmo motivo das duas últimas células, não há o que alterar aqui.\n",
    "beer_dict['India Pale Ale']['Colorado Indica']['beer_name'].unique()"
   ]
  },
  {
   "cell_type": "markdown",
   "metadata": {},
   "source": [
    "#####\n",
    "Cervejas do estilo \"Pilsen/American Lager\""
   ]
  },
  {
   "cell_type": "markdown",
   "metadata": {},
   "source": [
    "No caso das cervejas que seguem os estilos \"Pilsen/American Larger\", todas as suas representantes possuem variantes, veja:"
   ]
  },
  {
   "cell_type": "code",
   "execution_count": null,
   "metadata": {},
   "outputs": [],
   "source": [
    "# Variantes da cerveja \"Antarctica\"\n",
    "\n",
    "beer_dict['Pilsen/American Lager']['Antarctica']['beer_name'].unique()"
   ]
  },
  {
   "cell_type": "code",
   "execution_count": null,
   "metadata": {},
   "outputs": [],
   "source": [
    "# Variantes da cerveja \"Brahma\"\n",
    "\n",
    "beer_dict['Pilsen/American Lager']['Brahma']['beer_name'].unique()"
   ]
  },
  {
   "cell_type": "code",
   "execution_count": null,
   "metadata": {},
   "outputs": [],
   "source": [
    "# Variantes da cerveja \"Skol\"\n",
    "\n",
    "beer_dict['Pilsen/American Lager']['Skol']['beer_name'].unique()"
   ]
  },
  {
   "cell_type": "markdown",
   "metadata": {},
   "source": [
    "Creio que das variantes acima, as mais conhecidas sejam a \"Antarctica Pilsen\", a \"Brahma Chopp\" e a \"Skol\".\n",
    "\n",
    "Por conta disso, focaremos a análise das cervejas do tipo \"Pilsen/American Lager\" nessas 3 variantes. \n",
    "\n",
    "Dessa forma, vamos filtrar novamente os dados presentes em *\"beer_dict\"*."
   ]
  },
  {
   "cell_type": "code",
   "execution_count": null,
   "metadata": {},
   "outputs": [],
   "source": [
    "# Filtra os dados da cerveja \"Skol\" para eliminar todas as variantes, com exceção da variante \"Skol\".\n",
    "filtered_skol_data = beer_dict['Pilsen/American Lager']['Skol'][beer_dict['Pilsen/American Lager']['Skol']['beer_name'] == 'Skol']\n",
    "# Guarda os dados filtrados em \"beer_dict\".\n",
    "beer_dict['Pilsen/American Lager']['Skol'] = filtered_skol_data\n",
    "# Exibe os dados filtrados.\n",
    "beer_dict['Pilsen/American Lager']['Skol']"
   ]
  },
  {
   "cell_type": "code",
   "execution_count": null,
   "metadata": {},
   "outputs": [],
   "source": [
    "# Filtra os dados da cerveja \"Brahma\" para eliminar todas as variantes, com exceção da variante \"Brahma Chopp\".\n",
    "filtered_brahma_data = beer_dict['Pilsen/American Lager']['Brahma'][beer_dict['Pilsen/American Lager']['Brahma']['beer_name'] == 'Brahma Chopp']\n",
    "# Guarda os dados filtrados em \"beer_dict\".\n",
    "beer_dict['Pilsen/American Lager']['Brahma'] = filtered_brahma_data\n",
    "# Exibe os dados filtrados.\n",
    "beer_dict['Pilsen/American Lager']['Brahma']"
   ]
  },
  {
   "cell_type": "code",
   "execution_count": null,
   "metadata": {},
   "outputs": [],
   "source": [
    "# Filtra os dados da cerveja \"Antarctica\" para eliminar todas as variantes, com exceção da variante \"Antarctica Pilsen\".\n",
    "filtered_antarctica_data = beer_dict['Pilsen/American Lager']['Antarctica'][beer_dict['Pilsen/American Lager']['Antarctica']['beer_name'] == 'Antarctica Pilsen']\n",
    "# Guarda os dados filtrados em \"beer_dict\".\n",
    "beer_dict['Pilsen/American Lager']['Antarctica'] = filtered_antarctica_data\n",
    "# Exibe os dados filtrados.\n",
    "beer_dict['Pilsen/American Lager']['Antarctica']"
   ]
  },
  {
   "cell_type": "markdown",
   "metadata": {},
   "source": [
    "### Criando um DataFrame com os dados filtrados\n",
    "\n",
    "*O DataFrame resultante dessa subseção será elaborado com base em tudo o que foi discutido nas subseções anteriores da seção \"Filtragem dos dados\"*"
   ]
  },
  {
   "cell_type": "code",
   "execution_count": null,
   "metadata": {},
   "outputs": [],
   "source": [
    "# Cria uma lista auxiliar que conterá todos os DataFrames presentes no dicionário \"beer_dict\".\n",
    "dfs = []\n",
    "\n",
    "# Itera sobre cada estilo de cerveja no dicionário \"beer_dict\".\n",
    "for style, beers in beer_dict.items():\n",
    "    # Itera sobre as cervejas de cada estilo.\n",
    "    for beer_name, beer_df in beers.items():\n",
    "        # Adiciona o DataFrame da cerveja atual à lista auxiliar \"dfs\"\n",
    "        dfs.append(beer_df)\n",
    "\n",
    "# Concatena verticalmente todos os DataFrames presentes na lista \"dfs\", criando um único DataFrame\n",
    "# que contém os reviews de algumas cervejas brasileiras dos principais estilos consumidos no Brasil.\n",
    "brazilian_beer_reviews = pd.concat(dfs, ignore_index=True)\n",
    "\n",
    "# Exibe o DataFrame resultante da concatenação, que agora contém os dados combinados de todas as cervejas\n",
    "# listadas no dicionário \"beer_dict\".\n",
    "brazilian_beer_reviews"
   ]
  },
  {
   "cell_type": "markdown",
   "metadata": {},
   "source": [
    "## **Resultado final**\n",
    "\n",
    "***Caso você não tenha interesse em saber como a filtragem foi realizada, você pode pular direto para essa subseção e ver o resultado final.***"
   ]
  },
  {
   "cell_type": "code",
   "execution_count": null,
   "metadata": {},
   "outputs": [],
   "source": [
    "# Exibe o resultado final da filtragem dos dados.\n",
    "brazilian_beer_reviews"
   ]
  },
  {
   "cell_type": "markdown",
   "metadata": {},
   "source": [
    "# **Como algumas cervejarias brasileiras se comportam em relação a média geral das cervejarias?**"
   ]
  },
  {
   "cell_type": "markdown",
   "metadata": {},
   "source": [
    "### *Contexto dos resultados*\n",
    "\n",
    "As cervejarias brasileiras analisadas nesta seção foram selecionadas por serem responsáveis pela produção de algumas das cervejas mais renomadas dentro os cinco estilos de cerveja mais apreciados pelos brasileiros (segundo a pesquisa exposta na seção anterior)."
   ]
  },
  {
   "cell_type": "markdown",
   "metadata": {},
   "source": [
    "### ."
   ]
  },
  {
   "cell_type": "code",
   "execution_count": null,
   "metadata": {},
   "outputs": [],
   "source": [
    "# Exibe as cervejarias brasileiras que serão analisadas.\n",
    "brazilian_beer_reviews['brewery_name'].unique()"
   ]
  },
  {
   "cell_type": "code",
   "execution_count": null,
   "metadata": {},
   "outputs": [],
   "source": [
    "# Obtem os dados das cervejarias brasileiras em questão.\n",
    "brazilian_breweries_data = data[\n",
    "    (data['brewery_name'] == 'Cervejaria Colorado') |\n",
    "    (data['brewery_name'] == 'Cervejaria Sudbrack Ltda') |\n",
    "    (data['brewery_name'] == 'Cervejarias Reunidas Skol-Caracu') |\n",
    "    (data['brewery_name'] == 'Antarctica (Companhia Brasileira De Bebidas)') |\n",
    "    (data['brewery_name'] == 'Companhia Cervejaria Brahma')\n",
    "]\n",
    "\n",
    "# Exibe os dados obtidos.\n",
    "brazilian_breweries_data"
   ]
  },
  {
   "cell_type": "code",
   "execution_count": null,
   "metadata": {},
   "outputs": [],
   "source": [
    "# Elimina as colunas que serão inúteis nessa análise.\n",
    "brazilian_breweries_data = brazilian_breweries_data.drop(columns=['brewery_id','review_time','review_profilename','beer_style','beer_beerid','beer_name','beer_abv'])\n",
    "\n",
    "# Elimina eventuais linhas nulas.\n",
    "brazilian_breweries_data = brazilian_breweries_data.dropna()\n",
    "\n",
    "# Exibe o DataFrame resultante da operação acima.\n",
    "brazilian_breweries_data"
   ]
  },
  {
   "cell_type": "code",
   "execution_count": null,
   "metadata": {},
   "outputs": [],
   "source": [
    "# Agrupa as cervejarias brasileiras e calcula a média de cada um dos reviews de tais cervejarias.\n",
    "brazilian_breweries_productions_average_evaluations = brazilian_breweries_data.groupby('brewery_name').mean()\n",
    "\n",
    "# Exibe o resultado da operação acima.\n",
    "brazilian_breweries_productions_average_evaluations"
   ]
  },
  {
   "cell_type": "code",
   "execution_count": null,
   "metadata": {},
   "outputs": [],
   "source": [
    "# Obtem a média dos 'review_overall' das cervejarias brasileiras analisadas e ordena tais valores.\n",
    "brazilian_breweries_production_average_reviews = brazilian_breweries_productions_average_evaluations['review_overall'].sort_values()\n",
    "\n",
    "# Obtem a média dos 'review_aroma' das cervejarias brasileiras analisadas e ordena tais valores.\n",
    "brazilian_breweries_production_aroma_reviews = brazilian_breweries_productions_average_evaluations['review_aroma'].sort_values()\n",
    "\n",
    "# Obtem a média dos 'review_appearance' das cervejarias brasileiras analisadas ordena tais valores.\n",
    "brazilian_breweries_production_appearance_reviews = brazilian_breweries_productions_average_evaluations['review_appearance'].sort_values()\n",
    "\n",
    "# Obtem a média dos 'review_palate' das cervejarias brasileiras analisadas ordena tais valores.\n",
    "brazilian_breweries_production_palate_reviews = brazilian_breweries_productions_average_evaluations['review_palate'].sort_values()\n",
    "\n",
    "# Obtem a média dos 'review_taste' das cervejarias brasileiras analisadas e ordena tais valores.\n",
    "brazilian_breweries_production_taste_reviews = brazilian_breweries_productions_average_evaluations['review_taste'].sort_values()"
   ]
  },
  {
   "cell_type": "markdown",
   "metadata": {},
   "source": [
    "### *Alguns resultados interessantes*"
   ]
  },
  {
   "cell_type": "code",
   "execution_count": null,
   "metadata": {},
   "outputs": [],
   "source": [
    "# Rankeia as cervejarias brasileiras analisadas segundo a avaliação média das cervejas produzidas por elas.\n",
    "brazilian_breweries_production_average_reviews.sort_values(ascending=False)"
   ]
  },
  {
   "cell_type": "code",
   "execution_count": null,
   "metadata": {},
   "outputs": [],
   "source": [
    "# Rankeia as cervejarias brasileiras analisadas segundo a avaliação média do aroma das cervejas produzidas por elas.\n",
    "brazilian_breweries_production_aroma_reviews.sort_values(ascending=False)"
   ]
  },
  {
   "cell_type": "code",
   "execution_count": null,
   "metadata": {},
   "outputs": [],
   "source": [
    "# Rankeia as cervejarias brasileiras analisadas segundo a avaliação média da aparência das cervejas produzidas por elas.\n",
    "brazilian_breweries_production_appearance_reviews.sort_values(ascending=False)"
   ]
  },
  {
   "cell_type": "code",
   "execution_count": null,
   "metadata": {},
   "outputs": [],
   "source": [
    "# Rankeia as cervejarias brasileiras analisadas segundo a avaliação média do paladar das cervejas produzidas por elas.\n",
    "brazilian_breweries_production_palate_reviews.sort_values(ascending=False)"
   ]
  },
  {
   "cell_type": "code",
   "execution_count": null,
   "metadata": {},
   "outputs": [],
   "source": [
    "# Rankeia as cervejarias brasileiras analisadas segundo a avaliação média do gosto das cervejas produzidas por elas.\n",
    "brazilian_breweries_production_taste_reviews.sort_values(ascending=False)"
   ]
  },
  {
   "cell_type": "markdown",
   "metadata": {},
   "source": [
    "### ."
   ]
  },
  {
   "cell_type": "code",
   "execution_count": null,
   "metadata": {},
   "outputs": [],
   "source": [
    "# Elimina as colunas que serão inúteis nessa análise.\n",
    "breweries_data = data.drop(columns=['brewery_id','review_time','review_profilename','beer_style','beer_beerid','beer_name','beer_abv'])\n",
    "\n",
    "# Exibe o resultado da operação acima.\n",
    "breweries_data"
   ]
  },
  {
   "cell_type": "code",
   "execution_count": null,
   "metadata": {},
   "outputs": [],
   "source": [
    "# Obtem a média dos 'review_overall' de cada cervejaria e ordena tais valores.\n",
    "breweries_production_average_reviews = breweries_data.groupby('brewery_name').mean()['review_overall'].sort_values()\n",
    "\n",
    "# Obtem a média dos 'review_aroma' de cada cervejaria e ordena tais valores.\n",
    "breweries_production_aroma_reviews = breweries_data.groupby('brewery_name').mean()['review_aroma'].sort_values()\n",
    "\n",
    "# Obtem a média dos 'review_appearance' de cada cervejaria e ordena tais valores.\n",
    "breweries_production_appearance_reviews = breweries_data.groupby('brewery_name').mean()['review_appearance'].sort_values()\n",
    "\n",
    "# Obtem a média dos 'review_palate' de cada cervejaria e ordena tais valores.\n",
    "breweries_production_palate_reviews = breweries_data.groupby('brewery_name').mean()['review_palate'].sort_values()\n",
    "\n",
    "# Obtem a média dos 'review_taste' de cada cervejaria e ordena tais valores.\n",
    "breweries_production_taste_reviews = breweries_data.groupby('brewery_name').mean()['review_taste'].sort_values()"
   ]
  },
  {
   "cell_type": "markdown",
   "metadata": {},
   "source": [
    "### *Outros resultandos interessantes*"
   ]
  },
  {
   "cell_type": "code",
   "execution_count": null,
   "metadata": {},
   "outputs": [],
   "source": [
    "def generate_boxplot(data: pd.Series, highlited_points: pd.Series, highlighted_points_color: list,\n",
    "                     title: Optional[str] = \"\", yaxis_title: Optional[str] = \"\") -> None:\n",
    "    '''\n",
    "        Description:\n",
    "            Gera um boxplot que destaca pontos específicos e adiciona linhas para destacar os quartis.\n",
    "        \n",
    "        Args:\n",
    "            data (pd.Series): Dados a serem plotados no boxplot.\n",
    "            highlited_points (pd.Series): Série contendo pontos a serem destacados no boxplot.\n",
    "            highlighted_points_color (List[str]): Lista de cores para os pontos destacados. Deve ter o mesmo comprimento que highlited_points.\n",
    "            title (Optional[str]): Título do gráfico. Padrão é uma string vazia.\n",
    "            yaxis_title (Optional[str]): Título do eixo y. Padrão é uma string vazia.\n",
    "\n",
    "        Returns:\n",
    "            None: Esta função não retorna nenhum valor. Ela exibe o gráfico diretamente.\n",
    "    '''\n",
    "    \n",
    "    # Calcula os quartis.\n",
    "    q1 = np.percentile(data, 25)\n",
    "    median = np.percentile(data, 50)\n",
    "    q3 = np.percentile(data, 75)\n",
    "\n",
    "    # Cria a figure onde serão plotadas as informações.\n",
    "    fig = go.Figure()\n",
    "\n",
    "    # Cria o Boxplot.\n",
    "    fig.add_trace(go.Box(\n",
    "        # Seta os valores de cada ponto do boxplot.\n",
    "        y = data,\n",
    "        # Centra o boxplot no ponto x = 0,5.\n",
    "        x = [0.5] * len(data),\n",
    "        # Seta a cor dos outliers.\n",
    "        marker = dict(color='blue'),\n",
    "        # Seta a cor da linha do Boxplot.\n",
    "        line = dict(color='blue'),\n",
    "        # Seta um título para o Boxplot.\n",
    "        name = \"Boxplot\"\n",
    "    ))\n",
    "\n",
    "    # Plota os pontos a serem destacados.\n",
    "    for index, highlited_point in enumerate(highlited_points):\n",
    "        fig.add_trace(go.Scatter(\n",
    "            # Seta a posição dos pontos destacados no eixo x como sendo igual à 0,5.\n",
    "            x= [0.5],\n",
    "            # Seta o valor do ponto destacado.\n",
    "            y= [highlited_point],\n",
    "            # Plota o ponto destacado em questão como um ponto de cor definida em 'highlighted_points_color[index]'.\n",
    "            mode='markers',\n",
    "            marker=dict(color=highlighted_points_color[index], size=8),\n",
    "            # Seta o nome do ponto destacado em questão como sendo o nome presente em 'highlited_points.index[index]'.\n",
    "            name= highlited_points.index[index]\n",
    "        ))\n",
    "\n",
    "    # Cria linhas horizontais para reprentar os quartis.\n",
    "    quartiles = [q1, median, q3]\n",
    "    quartiles_name = ['Q1', 'Mediana', 'Q3']\n",
    "    # Adiciona ao gráfico as linhas horizontais que representam os quartis.\n",
    "    for i, quartile in enumerate(quartiles):\n",
    "        fig.add_trace(go.Scatter(\n",
    "            # Seta o intervalo das linhas horinzontais no eixo x.\n",
    "            x=[-0.5, 1.5],\n",
    "            # Adiciona o valor das linhas horizontais no eixo y.\n",
    "            y=[quartile, quartile],\n",
    "            # Cria as linhas horizontais como linhas pontilhadas azuis.\n",
    "            mode='lines',\n",
    "            line=dict(color='blue', dash='dash'),\n",
    "            # Adiciona um nome para cada uma das linhas horizontais.\n",
    "            name=f'{quartiles_name[i]}: {quartile:.2f}'\n",
    "        ))\n",
    "\n",
    "    # Seta algumas configurações do plot.\n",
    "    fig.update_layout(\n",
    "        # Adiciona um título ao plot.\n",
    "        title=title,\n",
    "        # Adiciona um título ao eixo y do plot.\n",
    "        yaxis_title=yaxis_title,\n",
    "        # Opta por exibir as legendas.\n",
    "        showlegend=True,\n",
    "        # Seta a altura do plot.\n",
    "        height=800\n",
    "    )\n",
    "\n",
    "    # Exibe o plot.\n",
    "    fig.show()"
   ]
  },
  {
   "cell_type": "code",
   "execution_count": null,
   "metadata": {},
   "outputs": [],
   "source": [
    "# Gera um boxplot da distribuição das avaliações médias das cervejas produzidas pelas cervejarias presentes no dataset, destacando as cervejarias\n",
    "# brasileiras e os quartis do boxplot em questão.\n",
    "\n",
    "# Cria uma lista de cores para destacar os pontos que representam as cervejarias brasileiras.\n",
    "colors = [\"#2F004F\",\"#780116\", \"#FF5A5F\", \"#087E8B\",\"#820B8A\"]\n",
    "\n",
    "# Cria um título para o plot.\n",
    "title = \"Distribuição das avaliações médias das cervejas produzidas pelas cervejarias analisadas\"\n",
    "\n",
    "# Cria um título para o eixo y do plot.\n",
    "yaxis_title = \"Avaliação [Em uma escala de 0 a 5]\"\n",
    "\n",
    "# Cria o plot descrito no ínicio dessa célula.\n",
    "generate_boxplot(breweries_production_average_reviews, brazilian_breweries_production_average_reviews, \n",
    "                 colors,title=title, yaxis_title=yaxis_title)"
   ]
  },
  {
   "cell_type": "code",
   "execution_count": null,
   "metadata": {},
   "outputs": [],
   "source": [
    "# Gera um boxplot da distribuição das avaliações médias dos aromas das cervejas produzidas pelas cervejarias presentes no dataset, \n",
    "# destacando as cervejarias brasileiras e os quartis do boxplot em questão.\n",
    "\n",
    "# Cria uma lista de cores para destacar os pontos que representam as cervejarias brasileiras.\n",
    "colors = [\"#2F004F\",\"#780116\", \"#FF5A5F\", \"#087E8B\",\"#820B8A\"]\n",
    "\n",
    "# Cria um título para o plot.\n",
    "title = \"Distribuição das avaliações médias dos aromas das cervejas produzidas pelas cervejarias analisadas\"\n",
    "\n",
    "# Cria um título para o eixo y do plot.\n",
    "yaxis_title = \"Avaliação [Em uma escala de 0 a 5]\"\n",
    "\n",
    "# Cria o plot descrito no ínicio dessa célula.\n",
    "generate_boxplot(breweries_production_aroma_reviews, brazilian_breweries_production_aroma_reviews, \n",
    "                 colors,title=title, yaxis_title=yaxis_title)"
   ]
  },
  {
   "cell_type": "code",
   "execution_count": null,
   "metadata": {},
   "outputs": [],
   "source": [
    "# Gera um boxplot da distribuição das avaliações médias das aparências das cervejas produzidas pelas cervejarias presentes no dataset, \n",
    "# destacando as cervejarias brasileiras e os quartis do boxplot em questão.\n",
    "\n",
    "# Cria uma lista de cores para destacar os pontos que representam as cervejarias brasileiras.\n",
    "colors = [\"#2F004F\",\"#780116\", \"#FF5A5F\", \"#087E8B\",\"#820B8A\"]\n",
    "\n",
    "# Cria um título para o plot.\n",
    "title = \"Distribuição das avaliações médias das aparências das cervejas produzidas pelas cervejarias analisadas\"\n",
    "\n",
    "# Cria um título para o eixo y do plot.\n",
    "yaxis_title = \"Avaliação [Em uma escala de 0 a 5]\"\n",
    "\n",
    "# Cria o plot descrito no ínicio dessa célula.\n",
    "generate_boxplot(breweries_production_appearance_reviews, brazilian_breweries_production_appearance_reviews, \n",
    "                 colors,title=title, yaxis_title=yaxis_title)\n"
   ]
  },
  {
   "cell_type": "code",
   "execution_count": null,
   "metadata": {},
   "outputs": [],
   "source": [
    "# Gera um boxplot da distribuição das avaliações médias dos paladares das cervejas produzidas pelas cervejarias presentes no dataset, \n",
    "# destacando as cervejarias brasileiras e os quartis do boxplot em questão.\n",
    "\n",
    "# Cria uma lista de cores para destacar os pontos que representam as cervejarias brasileiras.\n",
    "colors = [\"#2F004F\",\"#780116\", \"#FF5A5F\", \"#087E8B\",\"#820B8A\"]\n",
    "\n",
    "# Cria um título para o plot.\n",
    "title = \"Distribuição das avaliações médias dos paladares das cervejas produzidas pelas cervejarias analisadas\"\n",
    "\n",
    "# Cria um título para o eixo y do plot.\n",
    "yaxis_title = \"Avaliação [Em uma escala de 0 a 5]\"\n",
    "\n",
    "# Cria o plot descrito no ínicio dessa célula.\n",
    "generate_boxplot(breweries_production_palate_reviews, brazilian_breweries_production_palate_reviews, \n",
    "                 colors,title=title, yaxis_title=yaxis_title)"
   ]
  },
  {
   "cell_type": "code",
   "execution_count": null,
   "metadata": {},
   "outputs": [],
   "source": [
    "# Gera um boxplot da distribuição das avaliações médias dos sabores das cervejas produzidas pelas cervejarias presentes no dataset, destacando\n",
    "# as cervejarias brasileiras e os quartis do boxplot em questão.\n",
    "\n",
    "# Cria uma lista de cores para destacar os pontos que representam as cervejarias brasileiras.\n",
    "colors = [\"#2F004F\",\"#780116\", \"#FF5A5F\", \"#087E8B\",\"#820B8A\"]\n",
    "\n",
    "# Cria um título para o plot.\n",
    "title = \"Distribuição das avaliações médias dos sabores das cervejas produzidas pelas cervejarias analisadas\"\n",
    "\n",
    "# Cria um título para o eixo y do plot.\n",
    "yaxis_title = \"Avaliação [Em uma escala de 0 a 5]\"\n",
    "\n",
    "# Cria o plot descrito no ínicio dessa célula.\n",
    "generate_boxplot(breweries_production_taste_reviews, brazilian_breweries_production_taste_reviews, \n",
    "                 colors,title=title, yaxis_title=yaxis_title)"
   ]
  },
  {
   "cell_type": "markdown",
   "metadata": {},
   "source": [
    "# **Como o teor alcolico das cervejas se correlaciona com as avaliações delas ?**"
   ]
  },
  {
   "cell_type": "code",
   "execution_count": null,
   "metadata": {},
   "outputs": [],
   "source": [
    "# Exibe parte do dataset que será analisado.\n",
    "data"
   ]
  },
  {
   "cell_type": "code",
   "execution_count": null,
   "metadata": {},
   "outputs": [],
   "source": [
    "# Verifica o número de cervejas presentes no dataset analisado.\n",
    "len(data['beer_name'].unique())"
   ]
  },
  {
   "cell_type": "code",
   "execution_count": null,
   "metadata": {},
   "outputs": [],
   "source": [
    "# Remove as colunas inúteis para a análise em questão.\n",
    "filtered_data = data.drop(columns=['brewery_id','brewery_name','review_time','review_profilename','beer_style','beer_beerid'])\n",
    "\n",
    "# Agrupa os dados filtrados pelos nomes das cervejas presentes no dataset analisado e tira a média de cada um dos tipos de reviews.\n",
    "beers_average_reviews = filtered_data.groupby('beer_name').mean()\n",
    "\n",
    "# Dropa uma coluna que não será utilizada.\n",
    "beers_average_reviews = beers_average_reviews.drop(columns=['geom_mean'])\n",
    "\n",
    "# Exibe o resultado obtido na operação acima.\n",
    "beers_average_reviews"
   ]
  },
  {
   "cell_type": "code",
   "execution_count": null,
   "metadata": {},
   "outputs": [],
   "source": [
    "# Renomeia as colunas filtradas do DataFrame.\n",
    "beers_average_reviews = beers_average_reviews.rename(columns={'review_overall': 'Avaliação média', 'review_aroma': 'Avaliação do aroma',\n",
    "                                             'review_appearance': 'Avaliação da aparência', 'review_palate': 'Avaliação do paladar',\n",
    "                                             'review_taste': 'Avaliação do sabor', 'beer_abv': 'Percentual alcólico'})\n",
    "\n",
    "# Exibe o resultado da operação anterior.\n",
    "beers_average_reviews"
   ]
  },
  {
   "cell_type": "code",
   "execution_count": null,
   "metadata": {},
   "outputs": [],
   "source": [
    "# Calcula a matriz de correlação.\n",
    "correlation_matrix = beers_average_reviews.corr()\n",
    "\n",
    "# Cria o heatmap.\n",
    "fig = go.Figure(data=go.Heatmap(\n",
    "    # Seta os valores de correlação.\n",
    "    z=correlation_matrix.values,           \n",
    "    # Seta o rótulo do eixo x.\n",
    "    x=correlation_matrix.columns,          \n",
    "    # Seta o rótulo do eixo y.\n",
    "    y=correlation_matrix.index,    \n",
    "    # Escolhe a paleta de cores que seŕa usada no heatmap.        \n",
    "    colorscale=[[0,\"#84DCC6\"],[1,\"#FF6700\"]],      \n",
    "    # Cria uma colorbar para servir de legenda.    \n",
    "    colorbar=dict(title='Correlação'),\n",
    "    # Adiciona os valores de correlação nas células do heatmap.\n",
    "    text=correlation_matrix.values,\n",
    "    # Formata os valores de correlação para adicioná-los as células do heatmap.\n",
    "    texttemplate='%{text:.2f}'\n",
    "))\n",
    "\n",
    "# Seta um título para o plot.\n",
    "fig.update_layout(\n",
    "    title='Matriz de Correlação',\n",
    ")\n",
    "\n",
    "# Exibe o plot.\n",
    "fig.show()"
   ]
  },
  {
   "cell_type": "markdown",
   "metadata": {},
   "source": [
    "# **Encontrando as cervejas nacionais que são mais consistentemente bem avaliadas**"
   ]
  },
  {
   "cell_type": "markdown",
   "metadata": {},
   "source": [
    "Abaixo, se pode notar que fizemos a ordenação não somente pelo review overall, mas adicionamos também a condição da média geométrica na filtragem. Essa necessidade surgiu pois há algumas avaliações que deram um overall de 5.0, mas com notas baixíssimas nos critérios individuais, o que não faz muito sentido."
   ]
  },
  {
   "cell_type": "code",
   "execution_count": null,
   "metadata": {},
   "outputs": [],
   "source": [
    "# Adicionando a coluna com média geométrica das avaliações\n",
    "reviews = ['review_aroma', 'review_appearance', 'review_palate', 'review_taste']\n",
    "\n",
    "# Criando a nova coluna no df de cervejas nacionais\n",
    "brazilian_beer_reviews['geom_mean'] = sp.stats.mstats.gmean(brazilian_beer_reviews[reviews], axis=1).round(2)\n",
    "\n",
    "#display(brazilian_beer_reviews.sort_values(by='geom_mean', ascending=False))\n",
    "melhores_cervejas_brasileiras = brazilian_beer_reviews[(brazilian_beer_reviews['geom_mean'] >= 3) & (brazilian_beer_reviews['review_overall'] >= 4)]\n",
    "\n",
    "# E agora gerando a contagem das cervejas que mais são consistentemente bem avaliadas\\n\",\n",
    "contagem_cervejas_brasileiras = melhores_cervejas_brasileiras['beer_name'].value_counts().reset_index()\n",
    "contagem_cervejas_brasileiras.columns = ['beer_name', 'count']\n",
    "contagem_cervejas_brasileiras = contagem_cervejas_brasileiras.sort_values(by='count', ascending=False)\n",
    "\n",
    "display(contagem_cervejas_brasileiras)"
   ]
  },
  {
   "cell_type": "markdown",
   "metadata": {},
   "source": [
    "Ou seja, temos que as 3 cervejas nacionais que mais são consistentemente bem avaliadas tanto nos critérios individuais quanto no overall, são respectivamente Eisenbahn Weizenbier, Skol e Brahma Chopp!"
   ]
  },
  {
   "cell_type": "markdown",
   "metadata": {},
   "source": [
    "# **Avaliando as melhores cervejas**"
   ]
  },
  {
   "cell_type": "code",
   "execution_count": null,
   "metadata": {},
   "outputs": [],
   "source": [
    "# Encontrando as cervejas com maior overall\n",
    "data.sort_values(by='review_overall', ascending=False)"
   ]
  },
  {
   "cell_type": "markdown",
   "metadata": {},
   "source": [
    "Percebendo que há muitas cervejas com score 5.0 de overall, pensei em criar uma nova coluna com a média geométrica das colunas review_aroma, review_appearance, review_palate e review_taste.\n",
    "\n",
    "_Por que uma média geométrica?_\n",
    "- Médias geométricas punem desvios com muito mais força que médias aritméticas. Usando essa estratégia, talvez possamos encontrar a cervejaria com a nota mais sólida. Assim, talvez tenhamos uma avaliação mais rigorosa."
   ]
  },
  {
   "cell_type": "code",
   "execution_count": null,
   "metadata": {},
   "outputs": [],
   "source": [
    "reviews = ['review_aroma', 'review_appearance', 'review_palate', 'review_taste']\n",
    "data['geom_mean'] = sp.stats.mstats.gmean(data[reviews], axis=1).round(2)\n",
    "display(data)"
   ]
  },
  {
   "cell_type": "markdown",
   "metadata": {},
   "source": [
    "Agora, ordenamos pela média geométrica."
   ]
  },
  {
   "cell_type": "code",
   "execution_count": null,
   "metadata": {},
   "outputs": [],
   "source": [
    "data = data.sort_values(by='geom_mean', ascending=False)\n",
    "display(data)"
   ]
  },
  {
   "cell_type": "markdown",
   "metadata": {},
   "source": [
    "Algo bem confuso nesse resultado é que algumas cervejas com média geométrica 5 nos parâmetros avaliados não têm média 5 de overall..."
   ]
  },
  {
   "cell_type": "markdown",
   "metadata": {},
   "source": [
    "Usando datetime na coluna de review_time:"
   ]
  },
  {
   "cell_type": "code",
   "execution_count": null,
   "metadata": {},
   "outputs": [],
   "source": [
    "data['review_time'] = pd.to_datetime(data['review_time'], unit='s')\n",
    "display(data)"
   ]
  },
  {
   "cell_type": "markdown",
   "metadata": {},
   "source": [
    "Para ver se a média geométrica tem alguma relação positiva com o overall, resolvi fazer um regplot"
   ]
  },
  {
   "cell_type": "code",
   "execution_count": null,
   "metadata": {},
   "outputs": [],
   "source": [
    "#fazendo uma amostragem pra fazer o plot já que a base é bem grande\n",
    "data_amostra = data.sample(n=10000, random_state=1)\n",
    "plt.figure(figsize=(7,7))\n",
    "sns.regplot(data=data_amostra, x='geom_mean', y='review_overall')\n",
    "plt.show()"
   ]
  },
  {
   "cell_type": "code",
   "execution_count": null,
   "metadata": {},
   "outputs": [],
   "source": [
    "# agora, vendo a correlação em si\n",
    "data[['review_overall', 'geom_mean']].corr()"
   ]
  },
  {
   "cell_type": "markdown",
   "metadata": {},
   "source": [
    "Até que a correlação é forte!"
   ]
  },
  {
   "cell_type": "markdown",
   "metadata": {},
   "source": [
    "Tentando agora encontrar as melhores cervejarias filtrando o df para mostrar somente as cervejas que receberam tanto overall quanto média geométrica 5/5"
   ]
  },
  {
   "cell_type": "code",
   "execution_count": null,
   "metadata": {},
   "outputs": [],
   "source": [
    "melhores_cervejas = data[(data['review_overall'] == 5) & (data['geom_mean'] == 5)]\n",
    "                                            # dando display por ordem de id\n",
    "display(melhores_cervejas.sort_values(by='brewery_id'))"
   ]
  },
  {
   "cell_type": "markdown",
   "metadata": {},
   "source": [
    "Fazendo um df e depois um gráfico com as cervejas que mais foram perfeitamente avaliadas (5/5 em geom mean e overall)"
   ]
  },
  {
   "cell_type": "code",
   "execution_count": null,
   "metadata": {},
   "outputs": [],
   "source": [
    "contagem_cervejas = melhores_cervejas['beer_name'].value_counts().reset_index()\n",
    "contagem_cervejas.columns = ['beer_name', 'count']\n",
    "contagem_cervejas = contagem_cervejas.sort_values(by='count', ascending=False)\n",
    "display(contagem_cervejas)"
   ]
  },
  {
   "cell_type": "code",
   "execution_count": null,
   "metadata": {},
   "outputs": [],
   "source": [
    "top_cervejas = contagem_cervejas.head(15)\n",
    "\n",
    "# Criar o gráfico de barras\n",
    "plt.figure(figsize=(12, 6))\n",
    "sns.barplot(x='count', y='beer_name', data=top_cervejas, palette='YlOrBr')\n",
    "plt.xlabel('Número de avaliações 5/5')\n",
    "plt.ylabel('Nome da cerveja')\n",
    "plt.title('Top 15 Cervejas com avaliações 5/5 em geom_mean e review_overall')\n",
    "plt.show()"
   ]
  }
 ],
 "metadata": {
  "kernelspec": {
   "display_name": "Python 3",
   "language": "python",
   "name": "python3"
  },
  "language_info": {
   "codemirror_mode": {
    "name": "ipython",
    "version": 3
   },
   "file_extension": ".py",
   "mimetype": "text/x-python",
   "name": "python",
   "nbconvert_exporter": "python",
   "pygments_lexer": "ipython3",
   "version": "3.10.12"
  }
 },
 "nbformat": 4,
 "nbformat_minor": 2
}
