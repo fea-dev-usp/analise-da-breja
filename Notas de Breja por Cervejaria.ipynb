{
 "cells": [
  {
   "cell_type": "markdown",
   "metadata": {},
   "source": [
    "## **Configurações iniciais**"
   ]
  },
  {
   "cell_type": "code",
   "execution_count": null,
   "metadata": {},
   "outputs": [],
   "source": [
    "# Importa as bibliotecas que serão utilizadas na análise.\n",
    "\n",
    "import pandas as pd\n",
    "import numpy as np\n",
    "import scipy as sp\n",
    "import matplotlib.pyplot as plt\n",
    "import seaborn as sns"
   ]
  },
  {
   "cell_type": "code",
   "execution_count": null,
   "metadata": {},
   "outputs": [],
   "source": [
    "# Lê o .csv que contém os reviews e os salva em um DataFrame.\n",
    "data = pd.read_csv(\"beer_reviews.csv\")"
   ]
  },
  {
   "cell_type": "code",
   "execution_count": null,
   "metadata": {},
   "outputs": [],
   "source": [
    "# Exibe o DataFrame gerado na célula anterior.\n",
    "data"
   ]
  },
  {
   "cell_type": "markdown",
   "metadata": {},
   "source": [
    "# **Filtragem dos dados**"
   ]
  },
  {
   "cell_type": "markdown",
   "metadata": {},
   "source": [
    "## Processo"
   ]
  },
  {
   "cell_type": "markdown",
   "metadata": {},
   "source": [
    "### Metodologia"
   ]
  },
  {
   "cell_type": "markdown",
   "metadata": {},
   "source": [
    "Como o dataset *\"beer_reviews.csv\"* não contém uma coluna específica para nacionalidade, foi necessário realizar uma filtragem dos dados para que algumas cervejas brasileiras pudessem ser analisadas. Nesse intuito, foi consultada uma pesquisa publicada pelo Sindicerv (Sindicato Nacional da Indústria da Cerveja) para identificar os estilos de cerveja mais consumidos no Brasil. Em seguida, foram utilizados mecanismos de pesquisa para encontrar algumas cervejas nacionais que se enquadram em cada um desses estilos. Por fim, os dados de tais cervejas foram coletados e filtrados a partir do dataset \"beer_reviews.csv\" para possibilitar uma análise detalhada. \n",
    "\n",
    "*O processo completo dessa \"filtragem de dados\" está descrito nas células abaixo.*"
   ]
  },
  {
   "cell_type": "markdown",
   "metadata": {},
   "source": [
    "### Pesquisa do site \"Surra de Lúpulo\" em conjunto com o Sindicato Nacional da Industria da Cerveja"
   ]
  },
  {
   "cell_type": "markdown",
   "metadata": {},
   "source": [
    "Segundo a pesquisa \"Retrato dos consumidores de Cerveja 2023\", divulgada em dezembro de 2023 pelo site \"Surra de Lúpulo\", juntamente do Sindicato Nacional da Industria da Cerveja (Sindicerv), os estilos de cerveja mais consumidos pelo brasileiro são:\n",
    "\n",
    "1. *IPA (India Pale Ale)*\n",
    "2. *Weissbier*\n",
    "3. *Pilsen*\n",
    "4. *American Lager*\n",
    "5. *APA (American Pale Ale)*\n",
    "\n",
    "*Link da pesquisa:* https://www.sindicerv.com.br/noticias/ipa-pilsen-e-mais-pesquisa-revela-os-estilos-de-cervejas-preferidos-dos-consumidores/  "
   ]
  },
  {
   "cell_type": "markdown",
   "metadata": {},
   "source": [
    "### Resumo do resultado das buscas nos mecanismos de pesquisa\n",
    "\n",
    "###### *AKA Google + ChatGPT*"
   ]
  },
  {
   "cell_type": "markdown",
   "metadata": {},
   "source": [
    "Para cada um dos estilos de cerveja mencionados, há representantes bem conhecidos no Brasil. Para os apreciadores de IPA, a Colorado Indica é uma excelente escolha. Se você gosta de Weissbier, a Eisenbahn Weizen é uma ótima opção. No que diz respeito às Pilsners, é comum que no Brasil elas sejam confundidas com American Lagers. Entre essas categorias, há diversas opções amplamente consumidas, como Brahma, Skol e Antártica. Finalmente, para quem prefere APA, a Colorado Appia é uma ótima opção."
   ]
  },
  {
   "cell_type": "markdown",
   "metadata": {},
   "source": [
    "### Obtendo dados das cervejas descobertas na pesquisa realizada na subseção anterior"
   ]
  },
  {
   "cell_type": "markdown",
   "metadata": {},
   "source": [
    "#####\n",
    "Com o intuito de facilitar o trabalho que será realizado nessa subseção, vamos criar um dicionário que guarda os estilos de cerveja mais consumidos pelos brasileiros, juntamente de algumas cervejas que representam tais estilos *(isto é, as cervejas que descobrimos na busca realizada na seção anterior)*."
   ]
  },
  {
   "cell_type": "code",
   "execution_count": null,
   "metadata": {},
   "outputs": [],
   "source": [
    "# Cria um dicionário que contém os estilos de cerveja mais consumidos pelos brasileiros. Cada estilo de cerveja tem uma ou mais cervejas \n",
    "# como suas representantes, e cada uma dessas cervejas possui um DataFrame que armazena os reviews relacionados a ela ou, no caso de algumas \n",
    "# cervejas, a ela e suas variantes.\n",
    "\n",
    "beer_dict = {\n",
    "    'India Pale Ale':{\n",
    "        'Colorado Indica':pd.DataFrame()\n",
    "    },\n",
    "    'Weissbier':{\n",
    "        'Eisenbahn Weizenbier':pd.DataFrame()\n",
    "    },\n",
    "    'Pilsen/American Lager':{\n",
    "        'Skol':pd.DataFrame(),\n",
    "        'Antarctica':pd.DataFrame(),\n",
    "        'Brahma':pd.DataFrame()\n",
    "    },\n",
    "    'American Pale Ale':{\n",
    "        'Colorado Appia':pd.DataFrame()\n",
    "    }\n",
    "}            "
   ]
  },
  {
   "cell_type": "markdown",
   "metadata": {},
   "source": []
  },
  {
   "cell_type": "markdown",
   "metadata": {},
   "source": [
    "#### IPA (India Pale Ale)"
   ]
  },
  {
   "cell_type": "code",
   "execution_count": null,
   "metadata": {},
   "outputs": [],
   "source": [
    "# Nesta célula serão exibidos os reviews sobre a cerveja Colorado Indica.\n",
    "\n",
    "# Guarda os reviews sobre a cerveja em questão no dicionário \"beer_dict\".\n",
    "beer_dict['India Pale Ale']['Colorado Indica'] = data[data['beer_name'] == 'Colorado Indica']\n",
    "\n",
    "# Exibe tais reviews.\n",
    "beer_dict['India Pale Ale']['Colorado Indica']"
   ]
  },
  {
   "cell_type": "markdown",
   "metadata": {},
   "source": [
    "#### Weissbier"
   ]
  },
  {
   "cell_type": "code",
   "execution_count": null,
   "metadata": {},
   "outputs": [],
   "source": [
    "# Nesta célula serão exibidos os reviews sobre a cerveja Eisenbahn Weizen.\n",
    "\n",
    "# Guarda os reviews sobre a cerveja em questão no dicionário \"beer_dict\".\n",
    "beer_dict['Weissbier']['Eisenbahn Weizenbier'] = data[data['beer_name'] == \"Eisenbahn Weizenbier\"]\n",
    "\n",
    "# Exibe tais reviews.\n",
    "beer_dict['Weissbier']['Eisenbahn Weizenbier']"
   ]
  },
  {
   "cell_type": "markdown",
   "metadata": {},
   "source": [
    "#### Pilsen / American Lager"
   ]
  },
  {
   "cell_type": "markdown",
   "metadata": {},
   "source": [
    "##### Skol"
   ]
  },
  {
   "cell_type": "code",
   "execution_count": null,
   "metadata": {},
   "outputs": [],
   "source": [
    "# Nesta célula serão exibidos os reviews sobre a cerveja Skol.\n",
    "\n",
    "# Perceba que nessa célula estamos usando o \"startswith\" para pesquisar sobre os reviews da cerveja em questão, ao invês de pesquisar \n",
    "# somente pelo nome de tal cerveja. Estamos fazendo isso pois existem várias variações da cerveja pesquisada.\n",
    "\n",
    "# Guarda os reviews sobre as variantes da cerveja em questão no dicionário \"beer_dict\".\n",
    "beer_dict['Pilsen/American Lager']['Skol'] = data[data['beer_name'].str.startswith(\"Skol\", na=False)]\n",
    "\n",
    "# Exibe tais reviews.\n",
    "beer_dict['Pilsen/American Lager']['Skol']\n",
    "\n",
    "# Observação: Veja que existem cervejarias que não são brasileiras e que produzem cervejas que começam com \"Skol\", resolveremos isso mais abaixo."
   ]
  },
  {
   "cell_type": "markdown",
   "metadata": {},
   "source": [
    "##### Antarctica"
   ]
  },
  {
   "cell_type": "code",
   "execution_count": null,
   "metadata": {},
   "outputs": [],
   "source": [
    "# Nesta célula serão exibidos os reviews sobre a cerveja Antarctica.\n",
    "\n",
    "# Perceba que nessa célula estamos usando o \"startswith\" para pesquisar sobre os reviews da cerveja em questão, ao invês de pesquisar \n",
    "# somente pelo nome de tal cerveja. Estamos fazendo isso pois existem várias variações da cerveja pesquisada.\n",
    "\n",
    "# Guarda os reviews sobre as variantes da cerveja em questão no dicionário \"beer_dict\".\n",
    "beer_dict['Pilsen/American Lager']['Antarctica'] = data[data['beer_name'].str.startswith(\"Antarctica\", na=False)]\n",
    "\n",
    "# Exibe tais reviews.\n",
    "beer_dict['Pilsen/American Lager']['Antarctica']\n"
   ]
  },
  {
   "cell_type": "markdown",
   "metadata": {},
   "source": [
    "##### Brahma"
   ]
  },
  {
   "cell_type": "code",
   "execution_count": null,
   "metadata": {},
   "outputs": [],
   "source": [
    "# Nesta célula serão exibidos os reviews sobre a cerveja Brahma.\n",
    "\n",
    "# Perceba que nessa célula estamos usando o \"startswith\" para pesquisar sobre os reviews da cerveja em questão, ao invês de pesquisar somente \n",
    "# pelo nome de tal cerveja. Estamos fazendo isso pois existem várias variações da cerveja pesquisada.\n",
    "\n",
    "# Guarda os reviews sobre as variantes da cerveja em questão no dicionário \"beer_dict\".\n",
    "beer_dict['Pilsen/American Lager']['Brahma'] = data[data['beer_name'].str.startswith(\"Brahma\", na=False)]\n",
    "\n",
    "# Exibe tais reviews.\n",
    "beer_dict['Pilsen/American Lager']['Brahma']\n",
    "\n",
    "# Observação: Tal como no caso da \"Skol\", a \"Brahma\" também possui cervejarias que não são nacionais e que produzem cerveja com as iniciais \n",
    "#             \"Brahma\", resolveremos isso na próxima seção."
   ]
  },
  {
   "cell_type": "markdown",
   "metadata": {},
   "source": [
    "#### APA (American Pale Ale)"
   ]
  },
  {
   "cell_type": "markdown",
   "metadata": {},
   "source": [
    "##### Colorado Appia"
   ]
  },
  {
   "cell_type": "code",
   "execution_count": null,
   "metadata": {},
   "outputs": [],
   "source": [
    "# Nesta célula serão exibidos os reviews sobre a cerveja Colorado Appia.\n",
    "\n",
    "# Guarda os reviews sobre a cerveja em questão no dicionário \"beer_dict\".\n",
    "beer_dict['American Pale Ale']['Colorado Appia'] = data[data['beer_name'] == 'Colorado Appia']\n",
    "\n",
    "# Exibe tais reviews.\n",
    "beer_dict['American Pale Ale']['Colorado Appia']"
   ]
  },
  {
   "cell_type": "markdown",
   "metadata": {},
   "source": [
    "### Filtrando pelas cervejarias nacionais"
   ]
  },
  {
   "cell_type": "markdown",
   "metadata": {},
   "source": [
    "Nessa subseção, resolveremos os problemas citados ao obter os dados das cervejas \"Skol\" e \"Brahma\"."
   ]
  },
  {
   "cell_type": "markdown",
   "metadata": {},
   "source": [
    "##### Skol"
   ]
  },
  {
   "cell_type": "code",
   "execution_count": null,
   "metadata": {},
   "outputs": [],
   "source": [
    "# Quem produz a cerveja 'Skol' (Pilsen / American Lager) ?\n",
    "\n",
    "data[data['beer_name'].str.startswith('Skol')]['brewery_name'].unique()\n",
    "\n",
    "# Observe que das cervejarias abaixo, apenas a \"Cervejarias Reunidas Skol-Caracu\" é brasileira."
   ]
  },
  {
   "cell_type": "code",
   "execution_count": null,
   "metadata": {},
   "outputs": [],
   "source": [
    "# Filtra os dados para obter apenas as variantes da cerveja \"Skol\" que foram produzidas pela cervejaria brasileira \"Cervejarias Reunidas Skol-Caracu\".\n",
    "filtered_data = beer_dict['Pilsen/American Lager']['Skol'][beer_dict['Pilsen/American Lager']['Skol']['brewery_name'] == 'Cervejarias Reunidas Skol-Caracu']\n",
    "\n",
    "# Altera o DataFrame da cerveja \"Skol\" para que este contenha apenas os dados filtrados que foram obtidos acima.\n",
    "beer_dict['Pilsen/American Lager']['Skol'] = filtered_data\n",
    "\n",
    "# Exibe os dados filtrados.\n",
    "beer_dict['Pilsen/American Lager']['Skol']"
   ]
  },
  {
   "cell_type": "code",
   "execution_count": null,
   "metadata": {},
   "outputs": [],
   "source": [
    "# Por fim, observe quais variantes da cerveja \"Skol\" são produzidas pela \"Cervejarias Reunidas Skol-Caracu\"\n",
    "\n",
    "data[data['brewery_name'] == 'Cervejarias Reunidas Skol-Caracu']['beer_name'].unique()"
   ]
  },
  {
   "cell_type": "markdown",
   "metadata": {},
   "source": [
    "##### Brahma"
   ]
  },
  {
   "cell_type": "code",
   "execution_count": null,
   "metadata": {},
   "outputs": [],
   "source": [
    "# Quem produz a cerveja 'Brahma' (Pilsen / American Lager) ?\n",
    "\n",
    "data[data['beer_name'].str.startswith('Brahma',na=False)]['brewery_name'].unique()\n",
    "\n",
    "# As pesquisas são um pouco confusas e não sei ao certo afirmar se o Grupo Bemberg realmente produz Brahma. Por conta disso, vamos considerar\n",
    "# que apenas a \"Companhia Cervejaria Brahma\" é a cervejaria nacional que produz a cerveja \"Brahma\" e suas variantes."
   ]
  },
  {
   "cell_type": "code",
   "execution_count": null,
   "metadata": {},
   "outputs": [],
   "source": [
    "# Filtra os dados para obter apenas as variantes da cerveja \"Brahma\" que foram produzidas pela cervejaria brasileira \"Companhia Cervejaria Brahma\".\n",
    "filtered_data = beer_dict['Pilsen/American Lager']['Brahma'][beer_dict['Pilsen/American Lager']['Brahma']['brewery_name'] == 'Companhia Cervejaria Brahma']\n",
    "\n",
    "# Altera o DataFrame da cerveja \"Brahma\" para que este contenha apenas os dados filtrados que foram obtidos acima.\n",
    "beer_dict['Pilsen/American Lager']['Brahma'] = filtered_data\n",
    "\n",
    "# Exibe os dados filtrados.\n",
    "beer_dict['Pilsen/American Lager']['Brahma']"
   ]
  },
  {
   "cell_type": "code",
   "execution_count": null,
   "metadata": {},
   "outputs": [],
   "source": [
    "# Por fim, observe quais variantes da cerveja \"Brahma\" são produzidas pela \"Companhia Cervejaria Brahma\"\n",
    "\n",
    "data[data['brewery_name'] == 'Companhia Cervejaria Brahma']['beer_name'].unique()"
   ]
  },
  {
   "cell_type": "markdown",
   "metadata": {},
   "source": [
    "### Escolhendo as cervejas que serão analisadas"
   ]
  },
  {
   "cell_type": "markdown",
   "metadata": {},
   "source": [
    "#####\n",
    "\n",
    "Cervejas do estilo \"American Pale Ale\", \"Weissbier\" e \"India Pale Ale\""
   ]
  },
  {
   "cell_type": "code",
   "execution_count": null,
   "metadata": {},
   "outputs": [],
   "source": [
    "# No caso do estilo \"American Pale Ale\", só temos como cerveja no \"beer_dict\" a \"Colorado Appia\". Portanto, não há o que alterar aqui.\n",
    "beer_dict['American Pale Ale']['Colorado Appia']['beer_name'].unique()"
   ]
  },
  {
   "cell_type": "code",
   "execution_count": null,
   "metadata": {},
   "outputs": [],
   "source": [
    "# Pelo mesmo motivo da célula anteiror, não há o que alterar aqui.\n",
    "beer_dict['Weissbier']['Eisenbahn Weizenbier']['beer_name'].unique()"
   ]
  },
  {
   "cell_type": "code",
   "execution_count": null,
   "metadata": {},
   "outputs": [],
   "source": [
    "# Pelo mesmo motivo das duas últimas células, não há o que alterar aqui.\n",
    "beer_dict['India Pale Ale']['Colorado Indica']['beer_name'].unique()"
   ]
  },
  {
   "cell_type": "markdown",
   "metadata": {},
   "source": [
    "#####\n",
    "Cervejas do estilo \"Pilsen/American Lager\""
   ]
  },
  {
   "cell_type": "markdown",
   "metadata": {},
   "source": [
    "No caso das cervejas que seguem os estilos \"Pilsen/American Larger\", todas as suas representantes possuem variantes, veja:"
   ]
  },
  {
   "cell_type": "code",
   "execution_count": null,
   "metadata": {},
   "outputs": [],
   "source": [
    "# Variantes da cerveja \"Antarctica\"\n",
    "\n",
    "beer_dict['Pilsen/American Lager']['Antarctica']['beer_name'].unique()"
   ]
  },
  {
   "cell_type": "code",
   "execution_count": null,
   "metadata": {},
   "outputs": [],
   "source": [
    "# Variantes da cerveja \"Brahma\"\n",
    "\n",
    "beer_dict['Pilsen/American Lager']['Brahma']['beer_name'].unique()"
   ]
  },
  {
   "cell_type": "code",
   "execution_count": null,
   "metadata": {},
   "outputs": [],
   "source": [
    "# Variantes da cerveja \"Skol\"\n",
    "\n",
    "beer_dict['Pilsen/American Lager']['Skol']['beer_name'].unique()"
   ]
  },
  {
   "cell_type": "markdown",
   "metadata": {},
   "source": [
    "Creio que das variantes acima, as mais conhecidas sejam a \"Antarctica Pilsen\", a \"Brahma Chopp\" e a \"Skol\".\n",
    "\n",
    "Por conta disso, focaremos a análise das cervejas do tipo \"Pilsen/American Lager\" nessas 3 variantes. \n",
    "\n",
    "Dessa forma, vamos filtrar novamente os dados presentes em *\"beer_dict\"*."
   ]
  },
  {
   "cell_type": "code",
   "execution_count": null,
   "metadata": {},
   "outputs": [],
   "source": [
    "# Filtra os dados da cerveja \"Skol\" para eliminar todas as variantes, com exceção da variante \"Skol\".\n",
    "filtered_skol_data = beer_dict['Pilsen/American Lager']['Skol'][beer_dict['Pilsen/American Lager']['Skol']['beer_name'] == 'Skol']\n",
    "# Guarda os dados filtrados em \"beer_dict\".\n",
    "beer_dict['Pilsen/American Lager']['Skol'] = filtered_skol_data\n",
    "# Exibe os dados filtrados.\n",
    "beer_dict['Pilsen/American Lager']['Skol']"
   ]
  },
  {
   "cell_type": "code",
   "execution_count": null,
   "metadata": {},
   "outputs": [],
   "source": [
    "# Filtra os dados da cerveja \"Brahma\" para eliminar todas as variantes, com exceção da variante \"Brahma Chopp\".\n",
    "filtered_brahma_data = beer_dict['Pilsen/American Lager']['Brahma'][beer_dict['Pilsen/American Lager']['Brahma']['beer_name'] == 'Brahma Chopp']\n",
    "# Guarda os dados filtrados em \"beer_dict\".\n",
    "beer_dict['Pilsen/American Lager']['Brahma'] = filtered_brahma_data\n",
    "# Exibe os dados filtrados.\n",
    "beer_dict['Pilsen/American Lager']['Brahma']"
   ]
  },
  {
   "cell_type": "code",
   "execution_count": null,
   "metadata": {},
   "outputs": [],
   "source": [
    "# Filtra os dados da cerveja \"Antarctica\" para eliminar todas as variantes, com exceção da variante \"Antarctica Pilsen\".\n",
    "filtered_antarctica_data = beer_dict['Pilsen/American Lager']['Antarctica'][beer_dict['Pilsen/American Lager']['Antarctica']['beer_name'] == 'Antarctica Pilsen']\n",
    "# Guarda os dados filtrados em \"beer_dict\".\n",
    "beer_dict['Pilsen/American Lager']['Antarctica'] = filtered_antarctica_data\n",
    "# Exibe os dados filtrados.\n",
    "beer_dict['Pilsen/American Lager']['Antarctica']"
   ]
  },
  {
   "cell_type": "markdown",
   "metadata": {},
   "source": [
    "### Criando um DataFrame com os dados filtrados\n",
    "\n",
    "*O DataFrame resultante dessa subseção será elaborado com base em tudo o que foi discutido nas subseções anteriores da seção \"Filtragem dos dados\"*"
   ]
  },
  {
   "cell_type": "code",
   "execution_count": null,
   "metadata": {},
   "outputs": [],
   "source": [
    "# Cria uma lista auxiliar que conterá todos os DataFrames presentes no dicionário \"beer_dict\".\n",
    "dfs = []\n",
    "\n",
    "# Itera sobre cada estilo de cerveja no dicionário \"beer_dict\".\n",
    "for style, beers in beer_dict.items():\n",
    "    # Itera sobre as cervejas de cada estilo.\n",
    "    for beer_name, beer_df in beers.items():\n",
    "        # Adiciona o DataFrame da cerveja atual à lista auxiliar \"dfs\"\n",
    "        dfs.append(beer_df)\n",
    "\n",
    "# Concatena verticalmente todos os DataFrames presentes na lista \"dfs\", criando um único DataFrame\n",
    "# que contém os reviews de algumas cervejas brasileiras dos principais estilos consumidos no Brasil.\n",
    "brazilian_beer_reviews = pd.concat(dfs, ignore_index=True)\n",
    "\n",
    "# Exibe o DataFrame resultante da concatenação, que agora contém os dados combinados de todas as cervejas\n",
    "# listadas no dicionário \"beer_dict\".\n",
    "brazilian_beer_reviews"
   ]
  },
  {
   "cell_type": "markdown",
   "metadata": {},
   "source": [
    "## **Resultado final**\n",
    "\n",
    "***Caso você não tenha interesse em saber como a filtragem foi realizada, você pode pular direto para essa subseção e ver o resultado final.***"
   ]
  },
  {
   "cell_type": "code",
   "execution_count": null,
   "metadata": {},
   "outputs": [],
   "source": [
    "# Exibe o resultado final da filtragem dos dados.\n",
    "brazilian_beer_reviews"
   ]
  },
  {
   "cell_type": "markdown",
   "metadata": {},
   "source": [
    "# **Avaliando as melhores cervejas**"
   ]
  },
  {
   "cell_type": "code",
   "execution_count": null,
   "metadata": {},
   "outputs": [],
   "source": [
    "# Encontrando as cervejas com maior overall\n",
    "data.sort_values(by='review_overall', ascending=False)"
   ]
  },
  {
   "cell_type": "markdown",
   "metadata": {},
   "source": [
    "Percebendo que há muitas cervejas com score 5.0 de overall, pensei em criar uma nova coluna com a média geométrica das colunas review_aroma, review_appearance, review_palate e review_taste.\n",
    "\n",
    "_Por que uma média geométrica?_\n",
    "- Médias geométricas punem desvios com muito mais força que médias aritméticas. Usando essa estratégia, talvez possamos encontrar a cervejaria com a nota mais sólida. Assim, talvez tenhamos uma avaliação mais rigorosa."
   ]
  },
  {
   "cell_type": "code",
   "execution_count": null,
   "metadata": {},
   "outputs": [],
   "source": [
    "reviews = ['review_aroma', 'review_appearance', 'review_palate', 'review_taste']\n",
    "data['geom_mean'] = sp.stats.mstats.gmean(data[reviews], axis=1).round(2)\n",
    "display(data)"
   ]
  },
  {
   "cell_type": "markdown",
   "metadata": {},
   "source": [
    "Agora, ordenamos pela média geométrica."
   ]
  },
  {
   "cell_type": "code",
   "execution_count": null,
   "metadata": {},
   "outputs": [],
   "source": [
    "data = data.sort_values(by='geom_mean', ascending=False)\n",
    "display(data)"
   ]
  },
  {
   "cell_type": "markdown",
   "metadata": {},
   "source": [
    "Algo bem confuso nesse resultado é que algumas cervejas com média geométrica 5 nos parâmetros avaliados não têm média 5 de overall..."
   ]
  },
  {
   "cell_type": "markdown",
   "metadata": {},
   "source": [
    "Usando datetime na coluna de review_time:"
   ]
  },
  {
   "cell_type": "code",
   "execution_count": null,
   "metadata": {},
   "outputs": [],
   "source": [
    "data['review_time'] = pd.to_datetime(data['review_time'], unit='s')\n",
    "display(data)"
   ]
  },
  {
   "cell_type": "markdown",
   "metadata": {},
   "source": [
    "Para ver se a média geométrica tem alguma relação positiva com o overall, resolvi fazer um regplot"
   ]
  },
  {
   "cell_type": "code",
   "execution_count": null,
   "metadata": {},
   "outputs": [],
   "source": [
    "#fazendo uma amostragem pra fazer o plot já que a base é bem grande\n",
    "data_amostra = data.sample(n=10000, random_state=1)\n",
    "plt.figure(figsize=(7,7))\n",
    "sns.regplot(data=data_amostra, x='geom_mean', y='review_overall')\n",
    "plt.show()"
   ]
  },
  {
   "cell_type": "code",
   "execution_count": null,
   "metadata": {},
   "outputs": [],
   "source": [
    "# agora, vendo a correlação em si\n",
    "data[['review_overall', 'geom_mean']].corr()"
   ]
  },
  {
   "cell_type": "markdown",
   "metadata": {},
   "source": [
    "Até que a correlação é forte!"
   ]
  },
  {
   "cell_type": "markdown",
   "metadata": {},
   "source": [
    "Tentando agora encontrar as melhores cervejarias filtrando o df para mostrar somente as cervejas que receberam tanto overall quanto média geométrica 5/5"
   ]
  },
  {
   "cell_type": "code",
   "execution_count": null,
   "metadata": {},
   "outputs": [],
   "source": [
    "melhores_cervejas = data[(data['review_overall'] == 5) & (data['geom_mean'] == 5)]\n",
    "                                            # dando display por ordem de id\n",
    "display(melhores_cervejas.sort_values(by='brewery_id'))"
   ]
  },
  {
   "cell_type": "markdown",
   "metadata": {},
   "source": [
    "Fazendo um df e depois um gráfico com as cervejas que mais foram perfeitamente avaliadas (5/5 em geom mean e overall)"
   ]
  },
  {
   "cell_type": "code",
   "execution_count": null,
   "metadata": {},
   "outputs": [],
   "source": [
    "contagem_cervejas = melhores_cervejas['beer_name'].value_counts().reset_index()\n",
    "contagem_cervejas.columns = ['beer_name', 'count']\n",
    "contagem_cervejas = contagem_cervejas.sort_values(by='count', ascending=False)\n",
    "display(contagem_cervejas)"
   ]
  },
  {
   "cell_type": "code",
   "execution_count": null,
   "metadata": {},
   "outputs": [],
   "source": [
    "top_cervejas = contagem_cervejas.head(15)\n",
    "\n",
    "# Criar o gráfico de barras\n",
    "plt.figure(figsize=(12, 6))\n",
    "sns.barplot(x='count', y='beer_name', data=top_cervejas, palette='YlOrBr')\n",
    "plt.xlabel('Número de avaliações 5/5')\n",
    "plt.ylabel('Nome da cerveja')\n",
    "plt.title('Top 15 Cervejas com avaliações 5/5 em geom_mean e review_overall')\n",
    "plt.show()"
   ]
  }
 ],
 "metadata": {
  "kernelspec": {
   "display_name": "Python 3",
   "language": "python",
   "name": "python3"
  },
  "language_info": {
   "codemirror_mode": {
    "name": "ipython",
    "version": 3
   },
   "file_extension": ".py",
   "mimetype": "text/x-python",
   "name": "python",
   "nbconvert_exporter": "python",
   "pygments_lexer": "ipython3",
   "version": "3.10.12"
  }
 },
 "nbformat": 4,
 "nbformat_minor": 2
}
