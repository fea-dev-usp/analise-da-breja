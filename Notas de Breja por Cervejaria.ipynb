{
 "cells": [
  {
   "cell_type": "markdown",
   "metadata": {},
   "source": [
    "## Configurações iniciais"
   ]
  },
  {
   "cell_type": "code",
   "execution_count": null,
   "metadata": {},
   "outputs": [],
   "source": [
    "# Importa as bibliotecas que serão utilizadas na análise.\n",
    "\n",
    "import pandas as pd\n",
    "import numpy as np\n",
    "import scipy as sp\n",
    "import matplotlib.pyplot as plt\n",
    "import seaborn as sns"
   ]
  },
  {
   "cell_type": "code",
   "execution_count": null,
   "metadata": {},
   "outputs": [],
   "source": [
    "# Lê o .csv que contém os reviews e os salva em um DataFrame.\n",
    "data = pd.read_csv(\"beer_reviews.csv\")"
   ]
  },
  {
   "cell_type": "code",
   "execution_count": null,
   "metadata": {},
   "outputs": [],
   "source": [
    "# Exibe o DataFrame gerado na célula anterior.\n",
    "data"
   ]
  },
  {
   "cell_type": "markdown",
   "metadata": {},
   "source": [
    "## Estilos de cerveja mais consumidos pelos brasileiros "
   ]
  },
  {
   "cell_type": "markdown",
   "metadata": {},
   "source": [
    "Segundo a pesquisa \"Retrato dos consumidores de Cerveja 2023\", divulgada em dezembro de 2023 pelo site \"Surra de Lúpulo\", juntamente do Sindicato Nacional da Industria da Cerveja (Sindicerv), os estilos de cerveja mais consumidos pelo brasileiro são:\n",
    "\n",
    "1. *IPA (India Pale Ale)*\n",
    "2. *Weissbier*\n",
    "3. *Pilsen*\n",
    "4. *American Lager*\n",
    "5. *APA (American Pale Ale)*\n",
    "\n",
    "*Link da pesquisa:* https://www.sindicerv.com.br/noticias/ipa-pilsen-e-mais-pesquisa-revela-os-estilos-de-cervejas-preferidos-dos-consumidores/  "
   ]
  },
  {
   "cell_type": "markdown",
   "metadata": {},
   "source": [
    "Para cada um dos estilos de cerveja mencionados, há representantes bem conhecidos no Brasil. Para os apreciadores de IPA, a Colorado Indica é uma excelente escolha. Se você gosta de Weissbier, a Eisenbahn Weizen é uma ótima opção. No que diz respeito às Pilsners, é comum que no Brasil elas sejam confundidas com American Lagers. Entre essas categorias, há diversas opções amplamente consumidas, como Brahma, Skol e Antártica. Finalmente, para quem prefere APA, a Colorado Appia é uma ótima opção."
   ]
  },
  {
   "cell_type": "markdown",
   "metadata": {},
   "source": [
    "Dito isso, vejamos as avaliações de algumas cervejas que seguem os estilos citadas na célula anterior."
   ]
  },
  {
   "cell_type": "markdown",
   "metadata": {},
   "source": [
    "### Análise de algumas cervejas brasileiras dos estilos mais populares no Brasil"
   ]
  },
  {
   "cell_type": "markdown",
   "metadata": {},
   "source": [
    "#####\n",
    "Com o intuito de facilitar o trabalho de análise, vamos criar um dicionário que guarda os estilos de cerveja mais consumidos pelos brasileiros juntamente de algumas cervejas que representam tais estilos."
   ]
  },
  {
   "cell_type": "code",
   "execution_count": null,
   "metadata": {},
   "outputs": [],
   "source": [
    "# Cria um dicionário que contém os estilos de cerveja mais consumidos pelos brasileiros. Cada estilo de cerveja tem uma ou mais cervejas \n",
    "# como suas representantes, e cada uma dessas cervejas possui um DataFrame que armazena os reviews relacionados a ela ou, no caso de algumas \n",
    "# cervejas, a ela e suas variantes.\n",
    "\n",
    "beer_dict = {\n",
    "    'India Pale Ale':{\n",
    "        'Colorado Indica':pd.DataFrame()\n",
    "    },\n",
    "    'Weissbier':{\n",
    "        'Eisenbahn Weizenbier':pd.DataFrame()\n",
    "    },\n",
    "    'Pilsen/American Lager':{\n",
    "        'Skol':pd.DataFrame(),\n",
    "        'Antarctica':pd.DataFrame(),\n",
    "        'Brahma':pd.DataFrame()\n",
    "    },\n",
    "    'American Pale Ale':{\n",
    "        'Colorado Appia':pd.DataFrame()\n",
    "    }\n",
    "}"
   ]
  },
  {
   "cell_type": "markdown",
   "metadata": {},
   "source": [
    "###\n",
    "Feito isso, vamos obter os dados sobre as cervejas que colocamos no dicionário acima."
   ]
  },
  {
   "cell_type": "markdown",
   "metadata": {},
   "source": [
    "#### IPA (India Pale Ale)"
   ]
  },
  {
   "cell_type": "code",
   "execution_count": null,
   "metadata": {},
   "outputs": [],
   "source": [
    "# Nesta célula serão exibidos os reviews sobre a cerveja Colorado Indica.\n",
    "\n",
    "# Guarda os reviews sobre a cerveja em questão no dicionário \"beer_dict\".\n",
    "beer_dict['India Pale Ale']['Colorado Indica'] = data[data['beer_name'] == 'Colorado Indica']\n",
    "\n",
    "# Exibe tais reviews.\n",
    "beer_dict['India Pale Ale']['Colorado Indica']"
   ]
  },
  {
   "cell_type": "markdown",
   "metadata": {},
   "source": [
    "#### Weissbier"
   ]
  },
  {
   "cell_type": "code",
   "execution_count": null,
   "metadata": {},
   "outputs": [],
   "source": [
    "# Nesta célula serão exibidos os reviews sobre a cerveja Eisenbahn Weizen.\n",
    "\n",
    "# Guarda os reviews sobre a cerveja em questão no dicionário \"beer_dict\".\n",
    "beer_dict['Weissbier']['Eisenbahn Weizenbier'] = data[data['beer_name'] == \"Eisenbahn Weizenbier\"]\n",
    "\n",
    "# Exibe tais reviews.\n",
    "beer_dict['Weissbier']['Eisenbahn Weizenbier']"
   ]
  },
  {
   "cell_type": "markdown",
   "metadata": {},
   "source": [
    "#### Pilsen / American Lager"
   ]
  },
  {
   "cell_type": "markdown",
   "metadata": {},
   "source": [
    "##### Skol"
   ]
  },
  {
   "cell_type": "code",
   "execution_count": null,
   "metadata": {},
   "outputs": [],
   "source": [
    "# Nesta célula serão exibidos os reviews sobre a cerveja Skol.\n",
    "\n",
    "# Perceba que nessa célula estamos usando o \"startswith\" para pesquisar sobre os reviews da cerveja em questão, ao invês de pesquisar \n",
    "# somente pelo nome de tal cerveja. Estamos fazendo isso pois existem várias variações da cerveja pesquisada.\n",
    "\n",
    "# Guarda os reviews sobre as variantes da cerveja em questão no dicionário \"beer_dict\".\n",
    "beer_dict['Pilsen/American Lager']['Skol'] = data[data['beer_name'].str.startswith(\"Skol\", na=False)]\n",
    "\n",
    "# Exibe tais reviews.\n",
    "beer_dict['Pilsen/American Lager']['Skol']\n"
   ]
  },
  {
   "cell_type": "markdown",
   "metadata": {},
   "source": [
    "##### Antarctica"
   ]
  },
  {
   "cell_type": "code",
   "execution_count": null,
   "metadata": {},
   "outputs": [],
   "source": [
    "# Nesta célula serão exibidos os reviews sobre a cerveja Antarctica.\n",
    "\n",
    "# Perceba que nessa célula estamos usando o \"startswith\" para pesquisar sobre os reviews da cerveja em questão, ao invês de pesquisar \n",
    "# somente pelo nome de tal cerveja. Estamos fazendo isso pois existem várias variações da cerveja pesquisada.\n",
    "\n",
    "# Guarda os reviews sobre as variantes da cerveja em questão no dicionário \"beer_dict\".\n",
    "beer_dict['Pilsen/American Lager']['Antarctica'] = data[data['beer_name'].str.startswith(\"Antarctica\", na=False)]\n",
    "\n",
    "# Exibe tais reviews.\n",
    "beer_dict['Pilsen/American Lager']['Antarctica']\n"
   ]
  },
  {
   "cell_type": "markdown",
   "metadata": {},
   "source": [
    "##### Brahma"
   ]
  },
  {
   "cell_type": "code",
   "execution_count": null,
   "metadata": {},
   "outputs": [],
   "source": [
    "# Nesta célula serão exibidos os reviews sobre a cerveja Brahma.\n",
    "\n",
    "# Perceba que nessa célula estamos usando o \"startswith\" para pesquisar sobre os reviews da cerveja em questão, ao invês de pesquisar somente \n",
    "# pelo nome de tal cerveja. Estamos fazendo isso pois existem várias variações da cerveja pesquisada.\n",
    "\n",
    "# Guarda os reviews sobre as variantes da cerveja em questão no dicionário \"beer_dict\".\n",
    "beer_dict['Pilsen/American Lager']['Brahma'] = data[data['beer_name'].str.startswith(\"Brahma\", na=False)]\n",
    "\n",
    "# Exibe tais reviews.\n",
    "beer_dict['Pilsen/American Lager']['Brahma']"
   ]
  },
  {
   "cell_type": "markdown",
   "metadata": {},
   "source": [
    "#### APA (American Pale Ale)"
   ]
  },
  {
   "cell_type": "markdown",
   "metadata": {},
   "source": [
    "##### Colorado Appia"
   ]
  },
  {
   "cell_type": "code",
   "execution_count": null,
   "metadata": {},
   "outputs": [],
   "source": [
    "# Nesta célula serão exibidos os reviews sobre a cerveja Colorado Appia.\n",
    "\n",
    "# Guarda os reviews sobre a cerveja em questão no dicionário \"beer_dict\".\n",
    "beer_dict['American Pale Ale']['Colorado Appia'] = data[data['beer_name'] == 'Colorado Appia']\n",
    "\n",
    "# Exibe tais reviews.\n",
    "beer_dict['American Pale Ale']['Colorado Appia']"
   ]
  },
  {
   "cell_type": "markdown",
   "metadata": {},
   "source": [
    "## Avaliação de algumas cervejarias nacionais"
   ]
  },
  {
   "cell_type": "markdown",
   "metadata": {},
   "source": [
    "Serão avaliadas aqui as cervejarias que produzem as cervejas que citamos em \"Análise de algumas cervejas brasileiras dos estilos mais populares no Brasil\"."
   ]
  },
  {
   "cell_type": "markdown",
   "metadata": {},
   "source": [
    "#####\n",
    "\n",
    "De antemão, veja que tanto a \"Colorado Indica\" *(India Pale Ale)* quanto a \"Colorado Appia\" *(American Pale Ale)* são produzidas pela \"Cervejaria Colorado\", que é uma cervejaria brasileira."
   ]
  },
  {
   "cell_type": "code",
   "execution_count": null,
   "metadata": {},
   "outputs": [],
   "source": [
    "data[data['beer_name'] == 'Colorado Appia']['brewery_name'].unique()"
   ]
  },
  {
   "cell_type": "code",
   "execution_count": null,
   "metadata": {},
   "outputs": [],
   "source": [
    "data[data['beer_name'] == 'Colorado Indica']['brewery_name'].unique()"
   ]
  },
  {
   "cell_type": "markdown",
   "metadata": {},
   "source": [
    "####\n",
    "Dito isso, vejamos agora quais cervejarias produzem as demais cervejas que analisamos em \"Análise de algumas cervejas brasileiras dos estilos mais populares no Brasil\"."
   ]
  },
  {
   "cell_type": "markdown",
   "metadata": {},
   "source": [
    "##### Eisenbahn Weizenbier"
   ]
  },
  {
   "cell_type": "code",
   "execution_count": null,
   "metadata": {},
   "outputs": [],
   "source": [
    "# Quem produz a cerveja 'Eisenbahn Weizenbier' (Weissbier) ?\n",
    "\n",
    "data[data['beer_name'] == 'Eisenbahn Weizenbier']['brewery_name'].unique()"
   ]
  },
  {
   "cell_type": "markdown",
   "metadata": {},
   "source": [
    "##### Skol"
   ]
  },
  {
   "cell_type": "code",
   "execution_count": null,
   "metadata": {},
   "outputs": [],
   "source": [
    "# Quem produz a cerveja 'Skol' (Pilsen / American Lager) ?\n",
    "\n",
    "data[data['beer_name'].str.startswith('Skol')]['brewery_name'].unique()"
   ]
  },
  {
   "cell_type": "code",
   "execution_count": null,
   "metadata": {},
   "outputs": [],
   "source": [
    "# Perceba que na célula acima apenas uma cervejaria é brasileira, que no caso é a 'Cervejarias Reunidas Skol-Caracu', vejamos qual cerveja\n",
    "# 'Skol' é produzida por eles.\n",
    "\n",
    "reviews[reviews['brewery_name'] == 'Cervejarias Reunidas Skol-Caracu']['beer_name'].unique()\n",
    "\n",
    "# É interessante que trabalhemos apenas com as cervejas 'Skol' exibidas como saída dessa célula."
   ]
  },
  {
   "cell_type": "markdown",
   "metadata": {},
   "source": [
    "##### Antarctica"
   ]
  },
  {
   "cell_type": "code",
   "execution_count": null,
   "metadata": {},
   "outputs": [],
   "source": [
    "# Quem produz a cerveja 'Antarctica' (Pilsen / American Lager) ?\n",
    "\n",
    "data[data['beer_name'].str.startswith('Antarctica', na=False)]['brewery_name'].unique()"
   ]
  },
  {
   "cell_type": "markdown",
   "metadata": {},
   "source": [
    "##### Brahma"
   ]
  },
  {
   "cell_type": "code",
   "execution_count": null,
   "metadata": {},
   "outputs": [],
   "source": [
    "# Quem produz a cerveja 'Brahma' (Pilsen / American Lager) ?\n",
    "\n",
    "data[data['beer_name'].str.startswith('Brahma',na=False)]['brewery_name'].unique()"
   ]
  },
  {
   "cell_type": "code",
   "execution_count": null,
   "metadata": {},
   "outputs": [],
   "source": [
    "# Das cervejarias acima, apenas a 'Companhia Cervejaria Brahma' é brasileira. Por conta disso, vejamos quais cervejas 'Brahma' são produzidas\n",
    "# por tal cervejaria.\n",
    "\n",
    "reviews[reviews['brewery_name'] == 'Companhia Cervejaria Brahma']['beer_name'].unique()"
   ]
  },
  {
   "cell_type": "markdown",
   "metadata": {},
   "source": [
    "## Avaliando as melhores cervejarias"
   ]
  },
  {
   "cell_type": "code",
   "execution_count": null,
   "metadata": {},
   "outputs": [],
   "source": [
    "# Encontrando a cervejaria com maior overall\n",
    "data.sort_values(by='review_overall', ascending=False)"
   ]
  },
  {
   "cell_type": "markdown",
   "metadata": {},
   "source": [
    "Percebendo que há muitas cervejas com score 5.0 de overall, pensei em criar uma nova coluna com a média geométrica das colunas review_aroma, review_appearance, review_palate e review_taste.\n",
    "\n",
    "_Por que uma média geométrica?_\n",
    "- Médias geométricas punem desvios com muito mais força que médias aritméticas. Usando essa estratégia, talvez possamos encontrar a cervejaria com a nota mais sólida. Assim, talvez tenhamos uma avaliação mais rigorosa."
   ]
  },
  {
   "cell_type": "code",
   "execution_count": null,
   "metadata": {},
   "outputs": [],
   "source": [
    "reviews = ['review_aroma', 'review_appearance', 'review_palate', 'review_taste']\n",
    "data['geom_mean'] = sp.stats.mstats.gmean(data[reviews], axis=1).round(2)\n",
    "display(data)"
   ]
  },
  {
   "cell_type": "markdown",
   "metadata": {},
   "source": [
    "Agora, ordenamos pela média geométrica."
   ]
  },
  {
   "cell_type": "code",
   "execution_count": null,
   "metadata": {},
   "outputs": [],
   "source": [
    "data = data.sort_values(by='geom_mean', ascending=False)\n",
    "display(data)"
   ]
  },
  {
   "cell_type": "markdown",
   "metadata": {},
   "source": [
    "Algo bem confuso nesse resultado é que algumas cervejas com média geométrica 5 nos parâmetros avaliados não têm média 5 de overall..."
   ]
  },
  {
   "cell_type": "markdown",
   "metadata": {},
   "source": [
    "Usando datetime na coluna de review_time:"
   ]
  },
  {
   "cell_type": "code",
   "execution_count": null,
   "metadata": {},
   "outputs": [],
   "source": [
    "data['review_time'] = pd.to_datetime(data['review_time'], unit='s')\n",
    "display(data)"
   ]
  },
  {
   "cell_type": "markdown",
   "metadata": {},
   "source": [
    "Para ver se a média geométrica tem alguma relação positiva com o overall, resolvi fazer um regplot"
   ]
  },
  {
   "cell_type": "code",
   "execution_count": null,
   "metadata": {},
   "outputs": [],
   "source": [
    "#fazendo uma amostragem pra fazer o plot já que a base é bem grande\n",
    "data_amostra = data.sample(n=10000, random_state=1)\n",
    "plt.figure(figsize=(7,7))\n",
    "sns.regplot(data=data_amostra, x='geom_mean', y='review_overall')\n",
    "plt.show()"
   ]
  },
  {
   "cell_type": "code",
   "execution_count": null,
   "metadata": {},
   "outputs": [],
   "source": [
    "# agora, vendo a correlação em si\n",
    "data[['review_overall', 'geom_mean']].corr()"
   ]
  },
  {
   "cell_type": "markdown",
   "metadata": {},
   "source": [
    "Até que a correlação é forte!"
   ]
  },
  {
   "cell_type": "markdown",
   "metadata": {},
   "source": [
    "Tentando agora encontrar as melhores cervejarias filtrando o df para mostrar somente as cervejas que receberam tanto overall quanto média geométrica 5/5"
   ]
  },
  {
   "cell_type": "code",
   "execution_count": null,
   "metadata": {},
   "outputs": [],
   "source": [
    "melhores_cervejas = data[(data['review_overall'] == 5) & (data['geom_mean'] == 5)]\n",
    "                                            # dando display por ordem de id\n",
    "display(melhores_cervejas.sort_values(by='brewery_id'))"
   ]
  },
  {
   "cell_type": "markdown",
   "metadata": {},
   "source": [
    "Fazendo um df e depois um gráfico com as cervejas que mais foram perfeitamente avaliadas (5/5 em geom mean e overall)"
   ]
  },
  {
   "cell_type": "code",
   "execution_count": null,
   "metadata": {},
   "outputs": [],
   "source": [
    "contagem_cervejas = melhores_cervejas['beer_name'].value_counts().reset_index()\n",
    "contagem_cervejas.columns = ['beer_name', 'count']\n",
    "contagem_cervejas = contagem_cervejas.sort_values(by='count', ascending=False)\n",
    "display(contagem_cervejas)"
   ]
  },
  {
   "cell_type": "code",
   "execution_count": null,
   "metadata": {},
   "outputs": [],
   "source": [
    "top_cervejas = contagem_cervejas.head(15)\n",
    "\n",
    "# Criar o gráfico de barras\n",
    "plt.figure(figsize=(12, 6))\n",
    "sns.barplot(x='count', y='beer_name', data=top_cervejas, palette='YlOrBr')\n",
    "plt.xlabel('Número de avaliações 5/5')\n",
    "plt.ylabel('Nome da cerveja')\n",
    "plt.title('Top 15 Cervejas com Avaliações 5/5 em geom_mean e review_overall')\n",
    "plt.show()"
   ]
  }
 ],
 "metadata": {
  "kernelspec": {
   "display_name": "Python 3",
   "language": "python",
   "name": "python3"
  },
  "language_info": {
   "codemirror_mode": {
    "name": "ipython",
    "version": 3
   },
   "file_extension": ".py",
   "mimetype": "text/x-python",
   "name": "python",
   "nbconvert_exporter": "python",
   "pygments_lexer": "ipython3",
   "version": "3.10.12"
  }
 },
 "nbformat": 4,
 "nbformat_minor": 2
}
